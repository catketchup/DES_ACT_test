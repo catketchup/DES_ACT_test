{
 "cells": [
  {
   "cell_type": "code",
   "execution_count": 2,
   "id": "e21fa79c",
   "metadata": {
    "collapsed": false
   },
   "outputs": [],
   "source": [
    "import pyccl as ccl\n",
    "import numpy as np\n",
    "import healpy as hp\n",
    "import matplotlib.pyplot as plt"
   ]
  },
  {
   "cell_type": "code",
   "execution_count": 3,
   "id": "9656f37e",
   "metadata": {
    "collapsed": false
   },
   "outputs": [],
   "source": [
    "# Cl from linear galaxy-bias model, compared with Gabriela's output"
   ]
  },
  {
   "cell_type": "code",
   "execution_count": 4,
   "id": "8d3da5c3",
   "metadata": {
    "collapsed": false
   },
   "outputs": [],
   "source": [
    "#Get Cls to compute correlation\n",
    "#Redshift distribution\n",
    "zmean1=1.0; zmean2=1.5;\n",
    "sigz1=0.15; sigz2=0.15;\n",
    "nzs=512;"
   ]
  },
  {
   "cell_type": "code",
   "execution_count": 5,
   "id": "f063c61e",
   "metadata": {
    "collapsed": false
   },
   "outputs": [],
   "source": [
    "#Analytic redshift distributions\n",
    "z_a_1=np.linspace(zmean1-5*sigz1,zmean1+5*sigz1,nzs);\n",
    "z_a_2=np.linspace(zmean2-5*sigz2,zmean2+5*sigz2,nzs);\n",
    "pz_a_1=np.exp(-0.5*((z_a_1-zmean1)/sigz1)**2)\n",
    "pz_a_2=np.exp(-0.5*((z_a_2-zmean2)/sigz2)**2)\n",
    "\n",
    "#Bias parameters for these distributions\n",
    "bz_a_1=np.ones_like(z_a_1); bz_a_2=np.ones_like(z_a_2);"
   ]
  },
  {
   "cell_type": "code",
   "execution_count": 6,
   "id": "987928c5",
   "metadata": {
    "collapsed": false
   },
   "outputs": [
    {
     "data": {
      "text/plain": [
       "[<matplotlib.lines.Line2D at 0x7f07605e2d00>]"
      ]
     },
     "execution_count": 6,
     "metadata": {},
     "output_type": "execute_result"
    },
    {
     "data": {
      "image/png": "[encoded data removed]",
      "text/plain": [
       "<Figure size 432x288 with 1 Axes>"
      ]
     },
     "metadata": {
      "needs_background": "light"
     },
     "output_type": "display_data"
    }
   ],
   "source": [
    "plt.plot(z_a_1, pz_a_1)\n",
    "plt.plot(z_a_2, pz_a_2)"
   ]
  },
  {
   "cell_type": "code",
   "execution_count": 7,
   "id": "0ad18924",
   "metadata": {
    "collapsed": false
   },
   "outputs": [],
   "source": [
    "cosmo = ccl.Cosmology(Omega_c=0.27, Omega_b=0.045, h=0.67, sigma8=0.8, n_s=0.96, transfer_function='bbks', matter_power_spectrum='linear')"
   ]
  },
  {
   "cell_type": "code",
   "execution_count": 8,
   "id": "f3d586f0",
   "metadata": {
    "collapsed": false
   },
   "outputs": [],
   "source": [
    "z = np.linspace(0., 1., 200)\n",
    "n = np.exp(-((z-0.5)/0.1)**2)\n",
    "b = np.sqrt(1.+z)\n",
    "ell = np.arange(2,10)"
   ]
  },
  {
   "cell_type": "code",
   "execution_count": 9,
   "id": "cb02f3e0",
   "metadata": {
    "collapsed": false
   },
   "outputs": [],
   "source": [
    "lens = ccl.WeakLensingTracer(cosmo, (z,n))\n",
    "nc = ccl.NumberCountsTracer(cosmo, False, dndz=(z,n), bias=(z,b))\n",
    "cmbl = ccl.CMBLensingTracer(cosmo, 1100.)"
   ]
  },
  {
   "cell_type": "code",
   "execution_count": 10,
   "id": "975a35bc",
   "metadata": {
    "collapsed": false
   },
   "outputs": [],
   "source": [
    "corr_lens_nc = ccl.angular_cl(cosmo, lens, nc, ell)\n",
    "corr_nc_nc = ccl.angular_cl(cosmo, nc, nc, ell)"
   ]
  },
  {
   "cell_type": "code",
   "execution_count": 11,
   "id": "a27f12fa",
   "metadata": {
    "collapsed": false
   },
   "outputs": [],
   "source": [
    "import pyccl.nl_pt as pt\n",
    "import pyccl.ccllib as lib"
   ]
  },
  {
   "cell_type": "code",
   "execution_count": 12,
   "id": "47436e2c",
   "metadata": {
    "collapsed": false
   },
   "outputs": [],
   "source": [
    "# growth factor\n",
    "gz = ccl.growth_factor(cosmo, 1./(1+z))\n",
    "# Biases for number counts \n",
    "b_1 = 2.0 # constant values for now\n",
    "b_2 = 1.0\n",
    "b_s = 1.0\n",
    "\n",
    "# Biases for IAs. Will be converted to the input c_IA values below.\n",
    "a_1 = 1.\n",
    "a_2 = 0.5\n",
    "a_d = 0.5"
   ]
  },
  {
   "cell_type": "code",
   "execution_count": 13,
   "id": "59851942",
   "metadata": {
    "collapsed": false
   },
   "outputs": [],
   "source": [
    "# Define a redshift range and associated growth factor:\n",
    "z = np.linspace(0,1,128)\n",
    "gz = ccl.growth_factor(cosmo, 1./(1+z))\n",
    "\n",
    "# Let's convert the a_IA values into the correctly normalized c_IA values:\n",
    "Om_m = cosmo['Omega_m']\n",
    "rho_crit = lib.cvar.constants.RHO_CRITICAL\n",
    "rho_m = lib.cvar.constants.RHO_CRITICAL * cosmo['Omega_m']\n",
    "Om_m_fid = 0.3  # or could use DES convention and just remove Om_m/Om_m_fid\n",
    "\n",
    "c_1_t = -1*a_1*5e-14*rho_crit*cosmo['Omega_m']/gz\n",
    "c_d_t = -1*a_d*5e-14*rho_crit*cosmo['Omega_m']/gz\n",
    "c_2_t = a_2*5*5e-14*rho_crit*cosmo['Omega_m']**2/(Om_m_fid*gz**2)  # Blazek2019 convention\n",
    "c_2_t = a_2*5*5e-14*rho_crit*cosmo['Omega_m']/(gz**2)  # DES convention\n",
    "\n",
    "# Or we just use the built-in function for IA normalization\n",
    "c_1,c_d,c_2 = pt.translate_IA_norm(cosmo, z, a1=a_1, a1delta=a_d, a2=a_2,\n",
    "                                   Om_m2_for_c2 = False)"
   ]
  },
  {
   "cell_type": "code",
   "execution_count": 14,
   "id": "2d45ca0d",
   "metadata": {
    "collapsed": false
   },
   "outputs": [],
   "source": [
    "# Number counts\n",
    "ptt_g = pt.PTNumberCountsTracer(b1=b_1, b2=b_2, bs=b_s)\n",
    "\n",
    "# Intrinsic alignments\n",
    "ptt_i = pt.PTIntrinsicAlignmentTracer(c1=(z,c_1), c2=(z,c_2), cdelta=(z,c_d))\n",
    "ptt_i_nla = pt.PTIntrinsicAlignmentTracer(c1=(z,c_1)) # to compare using the standard WLTracer\n",
    "\n",
    "# Matter\n",
    "ptt_m = pt.PTMatterTracer()\n",
    "\n",
    "# Note that we've assumed constant biases for simplicity, but you can also make them z-dependent:\n",
    "bz = b_1 / gz\n",
    "ptt_g_b = pt.PTNumberCountsTracer(b1=(z, bz))"
   ]
  },
  {
   "cell_type": "code",
   "execution_count": 15,
   "id": "6311fb3f",
   "metadata": {
    "collapsed": false
   },
   "outputs": [],
   "source": [
    "# The `with_NC` and `with_IA` flags will tell FastPT to initialize the right things.\n",
    "# `log10k_min/max and nk_per_decade will define the sampling in k you should use.\n",
    "ptc = pt.PTCalculator(with_NC=True, with_IA=True,\n",
    "                      log10k_min=-4, log10k_max=2, nk_per_decade=20)"
   ]
  },
  {
   "cell_type": "code",
   "execution_count": 16,
   "id": "33256af4",
   "metadata": {
    "collapsed": false
   },
   "outputs": [],
   "source": [
    "# Galaxies x galaxies.\n",
    "# If `tracer2` is missing, an auto-correlation for the first tracer is assumed.\n",
    "pk_gg = pt.get_pt_pk2d(cosmo, ptt_g, ptc=ptc)\n",
    "\n",
    "# Galaxies x matter\n",
    "pk_gm = pt.get_pt_pk2d(cosmo, ptt_g, tracer2=ptt_m, ptc=ptc)\n",
    "\n",
    "# Galaxies x IAs\n",
    "pk_gi = pt.get_pt_pk2d(cosmo, ptt_g, tracer2=ptt_i, ptc=ptc)\n",
    "\n",
    "# IAs x IAs\n",
    "pk_ii, pk_ii_bb = pt.get_pt_pk2d(cosmo, ptt_i, tracer2=ptt_i, ptc=ptc, return_ia_ee_and_bb=True)\n",
    "pk_ii_nla = pt.get_pt_pk2d(cosmo, ptt_i_nla, tracer2=ptt_i_nla, ptc=ptc,)\n",
    "\n",
    "# IAs x matter\n",
    "pk_im = pt.get_pt_pk2d(cosmo, ptt_i, tracer2=ptt_m, ptc=ptc)\n",
    "\n",
    "# Matter x matter\n",
    "pk_mm = pt.get_pt_pk2d(cosmo, ptt_m, tracer2=ptt_m, ptc=ptc)"
   ]
  },
  {
   "cell_type": "code",
   "execution_count": 23,
   "id": "0109f6c4",
   "metadata": {
    "collapsed": false
   },
   "outputs": [],
   "source": [
    "nz = np.exp(-((z-0.7)/0.1)**2)\n",
    "# Number counts\n",
    "# We give this one a bias of 1, since we've taken care of galaxy bias at the P(k) level.\n",
    "t_g = ccl.NumberCountsTracer(cosmo, True, dndz=(z, nz), bias=(z, np.ones_like(z)))"
   ]
  }
 ],
 "metadata": {
  "kernelspec": {
   "argv": [
    "/home/ketchup/anaconda3/bin/python",
    "-m",
    "ipykernel_launcher",
    "-f",
    "{connection_file}"
   ],
   "display_name": "Python 3",
   "env": null,
   "interrupt_mode": "signal",
   "language": "python",
   "metadata": null,
   "name": "python3"
  },
  "name": "ccl_test.ipynb"
 },
 "nbformat": 4,
 "nbformat_minor": 5
}
