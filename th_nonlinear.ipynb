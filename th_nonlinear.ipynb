{
 "cells": [
  {
   "cell_type": "code",
   "execution_count": 1,
   "id": "d2f7ad99",
   "metadata": {
    "collapsed": false
   },
   "outputs": [],
   "source": [
    "import numpy as np\n",
    "import matplotlib.pylab as plt\n",
    "import pandas as pd\n",
    "import healpy as hp\n",
    "import pymaster as nmt\n",
    "import pyccl as ccl\n",
    "from astropy.table import Table\n",
    "from scipy.interpolate import interp1d\n",
    "from scipy.integrate import simps"
   ]
  },
  {
   "cell_type": "code",
   "execution_count": 2,
   "id": "81b18906",
   "metadata": {
    "collapsed": false
   },
   "outputs": [],
   "source": [
    "def load_fits2pd(fits_file):\n",
    "    cat  = Table.read(fits_file, format='fits')\n",
    "    names = [name for name in cat.colnames if len(cat[name].shape) <= 1]\n",
    "    catt = cat[names].to_pandas()\n",
    "    return catt\n",
    "\n",
    "def get_nz(cat):\n",
    "    z_in = np.linspace(0.0, 1.5, 100) \n",
    "    nz, zz = np.histogram(cat['DNF_ZMC_SOF'], bins=100, density=None)\n",
    "    zz = 0.5 * (zz[1:]+zz[:-1])\n",
    "    nz_normed = nz/ simps(nz, zz)\n",
    "    _p_of_z = interp1d(zz, nz_normed,bounds_error=False, fill_value=0.)\n",
    "    nz_in = _p_of_z(z_in)\n",
    "    return z_in, nz_in\n",
    "    "
   ]
  },
  {
   "cell_type": "code",
   "execution_count": 3,
   "id": "ea1d808c",
   "metadata": {
    "collapsed": false
   },
   "outputs": [],
   "source": [
    "# linear galaxy bias\n",
    "bias_zs= [1.5,1.8,1.8,1.9,2.0,2.0]\n",
    "# bias_zs= [1.5,1.8,1.8,1.9,1.57,1.64]\n",
    "sz_zs = [0.642, 0.63 , 0.776, 0.794, 0.756, 0.896]\n",
    "\n",
    "cosmo = ccl.Cosmology(Omega_c= 0.26, Omega_b=0.049, h=0.69 , A_s=2.19e-9, n_s=0.97,\n",
    "                      matter_power_spectrum='halofit')\n",
    "nside = 1024\n",
    "ell = np.arange(0, 3*nside-1)\n",
    "cmbl = ccl.CMBLensingTracer(cosmo, 1090.)\n",
    "clkk_th  =  ccl.angular_cl(cosmo, cmbl,cmbl, ell)\n"
   ]
  },
  {
   "cell_type": "markdown",
   "id": "d7f7007b",
   "metadata": {
    "collapsed": false
   },
   "source": [
    "# Read catalog and split the redshift bins"
   ]
  },
  {
   "cell_type": "code",
   "execution_count": 7,
   "id": "470f136a",
   "metadata": {
    "collapsed": false
   },
   "outputs": [
    {
     "name": "stdout",
     "output_type": "stream",
     "text": [
      "2236462  total number of galaxies\n",
      "1599487  total number of galaxies\n"
     ]
    },
    {
     "name": "stdout",
     "output_type": "stream",
     "text": [
      "1627408  total number of galaxies\n",
      "2175171  total number of galaxies\n"
     ]
    },
    {
     "name": "stdout",
     "output_type": "stream",
     "text": [
      "1583679  total number of galaxies\n",
      "1494243  total number of galaxies\n"
     ]
    }
   ],
   "source": [
    " \n",
    "# data_path1 =  '/home/gabriela/Documents/Pesquisa/kxgal_new/data/data_input/raw_data/monroy/'\n",
    "data_path1 = \"/home/ketchup/DES_ACT_test/\"\n",
    "cat = load_fits2pd(data_path1+'data.fits')\n",
    "cat_z1  = cat[(cat['DNF_ZMEAN_SOF']> 0.2) &(cat['DNF_ZMEAN_SOF']< 0.40) ]\n",
    "print(len(cat_z1) ,' total number of galaxies' )\n",
    "cat_z1.index = range(len(cat_z1))\n",
    "\n",
    "cat_z2  = cat[(cat['DNF_ZMEAN_SOF']> 0.4) &(cat['DNF_ZMEAN_SOF']< 0.55) ]\n",
    "print(len(cat_z2) ,' total number of galaxies' )\n",
    "cat_z2.index = range(len(cat_z2))\n",
    "\n",
    "\n",
    "cat_z3  = cat[(cat['DNF_ZMEAN_SOF']> 0.55) &(cat['DNF_ZMEAN_SOF']< 0.7) ]\n",
    "print(len(cat_z3) ,' total number of galaxies' )\n",
    "cat_z3.index = range(len(cat_z3))\n",
    "\n",
    "\n",
    "cat_z4  = cat[(cat['DNF_ZMEAN_SOF']> 0.7) &(cat['DNF_ZMEAN_SOF']< 0.85) ]\n",
    "print(len(cat_z4) ,' total number of galaxies' )\n",
    "cat_z4.index = range(len(cat_z4))\n",
    "\n",
    "\n",
    "cat_z5  = cat[(cat['DNF_ZMEAN_SOF']> 0.85) &(cat['DNF_ZMEAN_SOF']< 0.95) ]\n",
    "print(len(cat_z5) ,' total number of galaxies' )\n",
    "cat_z5.index = range(len(cat_z5))\n",
    "\n",
    "\n",
    "cat_z6  = cat[(cat['DNF_ZMEAN_SOF']> 0.95) &(cat['DNF_ZMEAN_SOF']< 1.05) ]\n",
    "print(len(cat_z6) ,' total number of galaxies' )\n",
    "cat_z6.index = range(len(cat_z6))\n",
    "catals = [cat_z1,cat_z2,cat_z3,cat_z4,cat_z5,cat_z6]"
   ]
  },
  {
   "cell_type": "markdown",
   "id": "1f5bec08",
   "metadata": {
    "collapsed": false
   },
   "source": [
    "# Compute theory Cls using linear galaxy bias model, script from Gabriela "
   ]
  },
  {
   "cell_type": "code",
   "execution_count": 8,
   "id": "674835b8",
   "metadata": {
    "collapsed": false,
    "scrolled": true
   },
   "outputs": [],
   "source": [
    "des_bins = 6\n",
    "cls_arr = []\n",
    "clkg_arr = []\n",
    "\n",
    "for i in range(des_bins):\n",
    "  \n",
    "    zz, nz = get_nz(catals[i])\n",
    "    \n",
    "    ccl_z1 = ccl.NumberCountsTracer(cosmo,False,(zz,nz), bias= (zz, bias_zs[i]*np.ones(len(zz)) ),  mag_bias=  (zz, sz_zs[i]*np.ones(len(zz)) ))\n",
    "    cl_kg_th = ccl.angular_cl(cosmo, ccl_z1,cmbl, ell) #CL_k_bin\n",
    "\n",
    "    for j in range(i, des_bins):\n",
    "        \n",
    "        zz, nz = get_nz(catals[j])\n",
    "        ccl_z2 = ccl.NumberCountsTracer(cosmo,False,(zz,nz), bias= (zz, bias_zs[j]*np.ones(len(zz)) ),  mag_bias=  (zz, sz_zs[j]*np.ones(len(zz)) ))\n",
    "\n",
    "        cl_gg_th = ccl.angular_cl(cosmo, ccl_z1,ccl_z2, ell) #CL_g1_g2\n",
    " "
   ]
  },
  {
   "cell_type": "markdown",
   "id": "56f2107a",
   "metadata": {
    "collapsed": false
   },
   "source": [
    "# Compute theory Cls using nonlinear galaxy bias model, edited by Hongbo "
   ]
  },
  {
   "cell_type": "code",
   "execution_count": 10,
   "id": "62a97f94",
   "metadata": {
    "collapsed": false
   },
   "outputs": [],
   "source": [
    "import pyccl.nl_pt as pt\n",
    "ptc = pt.PTCalculator(with_NC=True, with_IA=True,\n",
    "                      log10k_min=-4, log10k_max=2, nk_per_decade=20)"
   ]
  },
  {
   "cell_type": "code",
   "execution_count": 11,
   "id": "8c990a2f",
   "metadata": {
    "collapsed": false
   },
   "outputs": [],
   "source": [
    "# nonlinear galaxy bias, waiting for proper fiducial values\n",
    "# bias_zs = [1.5,1.8,1.8,1.9,2.0,2.0]\n",
    "bias_1_zs = bias_zs\n",
    "bias_2_zs = [0,0,0,0,0,0]\n",
    "bias_s_zs = [0,0,0,0,0,0]"
   ]
  },
  {
   "cell_type": "code",
   "execution_count": 12,
   "id": "66089858",
   "metadata": {
    "collapsed": false
   },
   "outputs": [],
   "source": [
    "des_bins = 6\n",
    "cls_arr = []\n",
    "clkg_arr = []\n",
    "\n",
    "for i in range(des_bins):\n",
    "  \n",
    "    zz, nz = get_nz(catals[i])\n",
    "    \n",
    "    ccl_z1 = ccl.NumberCountsTracer(cosmo,False,(zz,nz), bias= (zz, np.ones(len(zz)) ),  mag_bias=  (zz, sz_zs[i]*np.ones(len(zz)) ))\n",
    "    \n",
    "    # consider nonlinear galaxy bias here, use PT tools\n",
    "    ptt_g = pt.PTNumberCountsTracer(b1=(zz, bias_1_zs[i]*np.ones(len(zz))), b2=(zz, bias_2_zs[i]*np.ones(len(zz))), bs=(zz, bias_s_zs[i]*np.ones(len(zz))))\n",
    "    ptt_m = pt.PTMatterTracer()\n",
    "    \n",
    "    pk_gg = pt.get_pt_pk2d(cosmo, ptt_g, ptc=ptc)\n",
    "    pk_gm = pt.get_pt_pk2d(cosmo, ptt_g, tracer2=ptt_m, ptc=ptc)\n",
    "\n",
    "    #CL_k_bin\n",
    "    cl_kg_th_nl = ccl.angular_cl(cosmo, ccl_z1, cmbl, ell, p_of_k_a=pk_gm)\n",
    "    \n",
    "    for j in range(i, des_bins):\n",
    "        \n",
    "        zz, nz = get_nz(catals[j])\n",
    "        ccl_z2 = ccl.NumberCountsTracer(cosmo,False,(zz,nz), bias= (zz, np.ones(len(zz)) ),  mag_bias=  (zz, sz_zs[j]*np.ones(len(zz)) ))\n",
    "        #CL_g1_g2 \n",
    "        cl_gg_th_nl = ccl.angular_cl(cosmo, ccl_z1,ccl_z2, ell, p_of_k_a=pk_gg) "
   ]
  },
  {
   "cell_type": "markdown",
   "id": "b6d8877a",
   "metadata": {
    "collapsed": false
   },
   "source": [
    "# Test Cls_linear and Cls_nonlinear, waiting for proper fiducial values"
   ]
  },
  {
   "cell_type": "code",
   "execution_count": 18,
   "id": "670aa11f",
   "metadata": {
    "collapsed": false
   },
   "outputs": [],
   "source": [
    "# plot scale\n",
    "ellmin = 50\n",
    "ellmax = 1000\n",
    "ells = np.arange(ellmin, ellmax+1, 1)"
   ]
  },
  {
   "cell_type": "code",
   "execution_count": 13,
   "id": "8e55c66e",
   "metadata": {
    "collapsed": false
   },
   "outputs": [
    {
     "name": "stderr",
     "output_type": "stream",
     "text": [
      "<ipython-input-13-1c10f6b60fd4>:1: RuntimeWarning: invalid value encountered in true_divide\n",
      "  plt.plot((cl_kg_th_nl/cl_kg_th)[100:])\n"
     ]
    },
    {
     "data": {
      "text/plain": [
       "[<matplotlib.lines.Line2D at 0x7f65203d5880>]"
      ]
     },
     "execution_count": 13,
     "metadata": {},
     "output_type": "execute_result"
    },
    {
     "data": {
      "image/png": "[encoded data removed]",
      "text/plain": [
       "<Figure size 432x288 with 1 Axes>"
      ]
     },
     "metadata": {
      "needs_background": "light"
     },
     "output_type": "display_data"
    }
   ],
   "source": [
    "plt.plot(ells, (cl_kg_th_nl/cl_kg_th)[ells])"
   ]
  },
  {
   "cell_type": "code",
   "execution_count": 14,
   "id": "5c740f00",
   "metadata": {
    "collapsed": false
   },
   "outputs": [
    {
     "data": {
      "text/plain": [
       "[<matplotlib.lines.Line2D at 0x7f65202aee50>]"
      ]
     },
     "execution_count": 14,
     "metadata": {},
     "output_type": "execute_result"
    },
    {
     "data": {
      "image/png": "[encoded data removed]",
      "text/plain": [
       "<Figure size 432x288 with 1 Axes>"
      ]
     },
     "metadata": {
      "needs_background": "light"
     },
     "output_type": "display_data"
    }
   ],
   "source": [
    "plt.plot((cl_gg_th_nl/cl_gg_th)[100:])"
   ]
  },
  {
   "cell_type": "code",
   "execution_count": null,
   "id": "6fc23932",
   "metadata": {
    "collapsed": false
   },
   "outputs": [],
   "source": []
  }
 ],
 "metadata": {
  "kernelspec": {
   "argv": [
    "/home/ketchup/anaconda3/bin/python",
    "-m",
    "ipykernel_launcher",
    "-f",
    "{connection_file}"
   ],
   "display_name": "Python 3",
   "env": null,
   "interrupt_mode": "signal",
   "language": "python",
   "metadata": null,
   "name": "python3"
  },
  "language_info": {
   "codemirror_mode": {
    "name": "ipython",
    "version": 3
   },
   "file_extension": ".py",
   "mimetype": "text/x-python",
   "name": "python",
   "nbconvert_exporter": "python",
   "pygments_lexer": "ipython3",
   "version": "3.8.8"
  },
  "name": "th_nonlinear.ipynb"
 },
 "nbformat": 4,
 "nbformat_minor": 5
}
