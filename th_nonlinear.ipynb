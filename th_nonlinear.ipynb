{
 "cells": [
  {
   "cell_type": "code",
   "execution_count": 1,
   "id": "193b5715",
   "metadata": {},
   "outputs": [],
   "source": [
    "import numpy as np\n",
    "import matplotlib.pylab as plt\n",
    "import matplotlib as mpl\n",
    "import pandas as pd\n",
    "import healpy as hp\n",
    "import pymaster as nmt\n",
    "import pyccl as ccl\n",
    "import pyccl.nl_pt as pt\n",
    "import pymaster as nmt\n",
    "from tools import *"
   ]
  },
  {
   "cell_type": "markdown",
   "id": "6cdc25c9",
   "metadata": {},
   "source": [
    "# Read catalog and split the redshift bins"
   ]
  },
  {
   "cell_type": "code",
   "execution_count": 2,
   "id": "2888b20b",
   "metadata": {},
   "outputs": [
    {
     "name": "stdout",
     "output_type": "stream",
     "text": [
      "2236462  total number of galaxies\n",
      "1599487  total number of galaxies\n",
      "1627408  total number of galaxies\n",
      "2175171  total number of galaxies\n",
      "1583679  total number of galaxies\n",
      "1494243  total number of galaxies\n"
     ]
    }
   ],
   "source": [
    "# data_path1 =  '/home/gabriela/Documents/Pesquisa/kxgal_new/data/data_input/raw_data/monroy/'\n",
    "data_path1 = \"/home/ketchup/DES_ACT_test/\"\n",
    "\n",
    "cat = load_fits2pd(data_path1+'data.fits')\n",
    "cat_z1  = cat[(cat['DNF_ZMEAN_SOF']> 0.2) &(cat['DNF_ZMEAN_SOF']< 0.40) ]\n",
    "print(len(cat_z1) ,' total number of galaxies' )\n",
    "cat_z1.index = range(len(cat_z1))\n",
    "\n",
    "cat_z2  = cat[(cat['DNF_ZMEAN_SOF']> 0.4) &(cat['DNF_ZMEAN_SOF']< 0.55) ]\n",
    "print(len(cat_z2) ,' total number of galaxies' )\n",
    "cat_z2.index = range(len(cat_z2))\n",
    "\n",
    "\n",
    "cat_z3  = cat[(cat['DNF_ZMEAN_SOF']> 0.55) &(cat['DNF_ZMEAN_SOF']< 0.7) ]\n",
    "print(len(cat_z3) ,' total number of galaxies' )\n",
    "cat_z3.index = range(len(cat_z3))\n",
    "\n",
    "\n",
    "cat_z4  = cat[(cat['DNF_ZMEAN_SOF']> 0.7) &(cat['DNF_ZMEAN_SOF']< 0.85) ]\n",
    "print(len(cat_z4) ,' total number of galaxies' )\n",
    "cat_z4.index = range(len(cat_z4))\n",
    "\n",
    "\n",
    "cat_z5  = cat[(cat['DNF_ZMEAN_SOF']> 0.85) &(cat['DNF_ZMEAN_SOF']< 0.95) ]\n",
    "print(len(cat_z5) ,' total number of galaxies' )\n",
    "cat_z5.index = range(len(cat_z5))\n",
    "\n",
    "\n",
    "cat_z6  = cat[(cat['DNF_ZMEAN_SOF']> 0.95) &(cat['DNF_ZMEAN_SOF']< 1.05) ]\n",
    "print(len(cat_z6) ,' total number of galaxies' )\n",
    "cat_z6.index = range(len(cat_z6))\n",
    "catals = [cat_z1,cat_z2,cat_z3,cat_z4,cat_z5,cat_z6]\n",
    "\n",
    "des_bins = 6"
   ]
  },
  {
   "cell_type": "markdown",
   "id": "8e26f908",
   "metadata": {},
   "source": [
    "# Set fiducial parameters, firstly follow the fiducial parameters listed in https://arxiv.org/abs/2105.13546"
   ]
  },
  {
   "cell_type": "code",
   "execution_count": 3,
   "id": "0f855197",
   "metadata": {},
   "outputs": [],
   "source": [
    "cosmo = ccl.Cosmology(Omega_c= 0.252, Omega_b=0.048, h=0.69 , A_s=2.19e-9, n_s=0.97,\n",
    "                      matter_power_spectrum='halofit')\n",
    "# linear galaxy bias\n",
    "bias_zs= [1.5,1.8,1.8,1.9,1.57,1.64]\n",
    "# nonlinear galaxy bias, given by the combinination of b and sigma_8\n",
    "bias_1_zs_sigma8 = [1.43,1.43,1.43,1.69,1.69,1.69]\n",
    "bias_2_zs_sigma8 = [0.16,0.16,0.16,0.36,0.36,0.36]\n",
    "sigma_8 = 0.758\n",
    "bias_1_zs = np.array(bias_1_zs_sigma8)/sigma_8\n",
    "bias_2_zs = np.array(bias_2_zs_sigma8)/sigma_8\n",
    "bias_s_zs = -4/7*(bias_1_zs-1)\n",
    "\n",
    "# lens magnification\n",
    "sz_zs = [0.642, 0.63, 0.766, 0.794, 0.756, 0.896]"
   ]
  },
  {
   "cell_type": "code",
   "execution_count": 4,
   "id": "232b7f5f",
   "metadata": {},
   "outputs": [],
   "source": [
    "# Get the CMB lensing PS based on the fiducal cosmology"
   ]
  },
  {
   "cell_type": "code",
   "execution_count": 41,
   "id": "760ae7aa",
   "metadata": {},
   "outputs": [],
   "source": [
    "nside = 1024\n",
    "ell = np.arange(0, 3*nside)\n",
    "cmbl = ccl.CMBLensingTracer(cosmo, 1090.)\n",
    "clkk_th  =  ccl.angular_cl(cosmo, cmbl,cmbl, ell)"
   ]
  },
  {
   "cell_type": "markdown",
   "id": "584f6a36",
   "metadata": {},
   "source": [
    "# Compute and save theory Cls using linear galaxy bias model,  based on Gabriela's script "
   ]
  },
  {
   "cell_type": "code",
   "execution_count": 43,
   "id": "72d2d8d2",
   "metadata": {
    "scrolled": true
   },
   "outputs": [],
   "source": [
    "if 0:\n",
    "    for i in range(des_bins):\n",
    "        zz, nz = get_nz(catals[i])\n",
    "        \n",
    "        ccl_z1 = ccl.NumberCountsTracer(cosmo,False,(zz,nz), bias= (zz, bias_zs[i]*np.ones(len(zz)) ),  mag_bias=  (zz, sz_zs[i]*np.ones(len(zz)) ))\n",
    "        #CL_k_bin\n",
    "        cl_kg_th = ccl.angular_cl(cosmo, ccl_z1,cmbl, ell)\n",
    "        np.savetxt(data_path1 + 'input_linear/clkg_input_z%s.dat' %(i+1), np.transpose((ell, cl_kg_th)))\n",
    "\n",
    "        for j in range(i, des_bins):\n",
    "        \n",
    "            zz, nz = get_nz(catals[j])\n",
    "            ccl_z2 = ccl.NumberCountsTracer(cosmo,False,(zz,nz), bias= (zz, bias_zs[j]*np.ones(len(zz)) ),  mag_bias=  (zz, sz_zs[j]*np.ones(len(zz)) ))\n",
    "\n",
    "            #CL_g1_g2\n",
    "            cl_gg_th = ccl.angular_cl(cosmo, ccl_z1,ccl_z2, ell)\n",
    "            np.savetxt(data_path1 + 'input_linear/clgg_input_z%sf2z%s.dat' %(i+1,j+1), np.transpose((ell, cl_gg_th)))"
   ]
  },
  {
   "cell_type": "markdown",
   "id": "9ab4ed7d",
   "metadata": {},
   "source": [
    "# Compute and save theory Cls using non linear galaxy bias model,  edited by Hongbo"
   ]
  },
  {
   "cell_type": "code",
   "execution_count": 45,
   "id": "9c8f2398",
   "metadata": {},
   "outputs": [],
   "source": [
    "# consider nonlinear galaxy bias here, use PT tools\n",
    "if 0:\n",
    "    ptc = pt.PTCalculator(with_NC=True, with_IA=True,\n",
    "                          log10k_min=-4, log10k_max=2, nk_per_decade=20)\n",
    "\n",
    "    for i in range(des_bins):\n",
    "        zz, nz = get_nz(catals[i])\n",
    "        \n",
    "        ccl_z1 = ccl.NumberCountsTracer(cosmo,False,(zz,nz), bias= (zz, np.ones(len(zz)) ),  mag_bias=  (zz, sz_zs[i]*np.ones(len(zz)) ))\n",
    "    \n",
    "\n",
    "        ptt_g_z1 = pt.PTNumberCountsTracer(b1=(zz, bias_1_zs[i]*np.ones(len(zz))), b2=(zz, bias_2_zs[i]*np.ones(len(zz))), bs=(zz, bias_s_zs[i]*np.ones(len(zz))))\n",
    "        ptt_m = pt.PTMatterTracer()\n",
    "\n",
    "        pk_gm = pt.get_pt_pk2d(cosmo, ptt_g_z1, tracer2=ptt_m, ptc=ptc)\n",
    "\n",
    "        #CL_k_bin\n",
    "        cl_kg_th = ccl.angular_cl(cosmo, ccl_z1, cmbl, ell, p_of_k_a=pk_gm)\n",
    "        np.savetxt(data_path1 + 'input_nonlinear/clkg_input_nl_z%s.dat' %(i+1), np.transpose((ell, cl_kg_th)))\n",
    "    \n",
    "        for j in range(i, des_bins):        \n",
    "            zz, nz = get_nz(catals[j])\n",
    "        \n",
    "            ccl_z2 = ccl.NumberCountsTracer(cosmo,False,(zz,nz), bias= (zz, np.ones(len(zz)) ),  mag_bias=  (zz, sz_zs[j]*np.ones(len(zz)) ))\n",
    "        \n",
    "            ptt_g_z2 = pt.PTNumberCountsTracer(b1=(zz, bias_1_zs[j]*np.ones(len(zz))), b2=(zz, bias_2_zs[j]*np.ones(len(zz))), bs=(zz, bias_s_zs[j]*np.ones(len(zz))))\n",
    "\n",
    "            pk_gg = pt.get_pt_pk2d(cosmo, ptt_g_z1, tracer2=ptt_g_z2, ptc=ptc)\n",
    "            #CL_g1_g2 \n",
    "            cl_gg_th = ccl.angular_cl(cosmo, ccl_z1, ccl_z2, ell, p_of_k_a=pk_gg)\n",
    "            np.savetxt(data_path1 + 'input_nonlinear/clgg_input_nl_z%sf2z%s.dat' %(i+1,j+1), np.transpose((ell, cl_gg_th)))"
   ]
  },
  {
   "cell_type": "markdown",
   "id": "dd2c0105",
   "metadata": {},
   "source": [
    "# Test Cls_linear and Cls_nonlinear"
   ]
  },
  {
   "cell_type": "code",
   "execution_count": 46,
   "id": "ec248ae9",
   "metadata": {},
   "outputs": [],
   "source": [
    "# plot scale\n",
    "lmin = 2\n",
    "lmax = ell.max()\n",
    "ls = np.arange(lmin, lmax, 1)\n",
    "mpl.rcParams['font.size']=12"
   ]
  },
  {
   "cell_type": "code",
   "execution_count": 47,
   "id": "fc6b98e5",
   "metadata": {},
   "outputs": [
    {
     "data": {
      "image/png": "[encoded data removed]",
      "text/plain": [
       "<Figure size 432x648 with 2 Axes>"
      ]
     },
     "metadata": {
      "needs_background": "light"
     },
     "output_type": "display_data"
    }
   ],
   "source": [
    "# fig, ax = plt.subplots(2, 1,figsize=(8*1,2*6))\n",
    "fig, ax = plt.subplots(2, 1,figsize=(6*1,2*4.5))\n",
    "i,j = 2, 2\n",
    "\n",
    "clgg_input_g = np.loadtxt(data_path1+'inputgabriela/Clgg_input_z%sf2z%s.dat' %(i,j))\n",
    "clgg_input = np.loadtxt(data_path1+'input_linear/clgg_input_z%sf2z%s.dat' %(i,j))\n",
    "clgg_input_nl = np.loadtxt(data_path1+'input_nonlinear/clgg_input_nl_z%sf2z%s.dat' %(i,j))\n",
    "\n",
    "clkg_input_g = np.loadtxt(data_path1+'inputgabriela/Clkg_input_z%s.dat' %i)\n",
    "clkg_input = np.loadtxt(data_path1+'input_linear/clkg_input_z%s.dat' %i)\n",
    "clkg_input_nl = np.loadtxt(data_path1+'input_nonlinear/clkg_input_nl_z%s.dat' %i)\n",
    "\n",
    "ax[0].plot(ls, clgg_input_g[:,1][ls], label='gabriela\\'s')\n",
    "ax[0].plot(ls, clgg_input[:,1][ls], label='th linear')\n",
    "ax[0].plot(ls, clgg_input_nl[:,1][ls], label='th nonlinear')\n",
    "ax[0].legend()\n",
    "ax[0].set_xlabel(r'$\\ell$')\n",
    "ax[0].set_ylabel(r'$Cl^{kg}_{\\ell}$')\n",
    "ax[0].set_yscale('log')\n",
    "\n",
    "# plot clkg\n",
    "ax[1].plot(ls, clkg_input_g[:,1][ls], label='gabriela\\'s')\n",
    "ax[1].plot(ls, clkg_input[:,1][ls], label='th linear')\n",
    "ax[1].plot(ls, clkg_input_nl[:,1][ls], label='th nonlinear')\n",
    "ax[1].legend()\n",
    "ax[1].set_xlabel(r'$\\ell$')\n",
    "ax[1].set_xlabel(r'$\\ell$')\n",
    "ax[1].set_ylabel(r'$Cl^{gg}_{\\ell}$')\n",
    "ax[1].set_yscale('log')"
   ]
  },
  {
   "cell_type": "markdown",
   "id": "d771a5c1",
   "metadata": {},
   "source": [
    "# Calculating Power Spectrum Gaussian Errors, need checking here"
   ]
  },
  {
   "cell_type": "code",
   "execution_count": 48,
   "id": "f53d9c73",
   "metadata": {},
   "outputs": [
    {
     "data": {
      "image/png": "[encoded data removed]",
      "text/plain": [
       "<Figure size 432x648 with 2 Axes>"
      ]
     },
     "metadata": {
      "needs_background": "light"
     },
     "output_type": "display_data"
    }
   ],
   "source": [
    "fig, ax = plt.subplots(2, 1,figsize=(6*1,2*4.5))\n",
    "# gaussian, gg\n",
    "err = np.sqrt(2/(2*ls+1)*clgg_input_nl[:,1][ls]**2)\n",
    "ax[0].errorbar(ls, clgg_input_nl[:,1][ls], yerr=err, label='th nonlinear')\n",
    "ax[0].legend()\n",
    "ax[0].set_xlabel(r'$\\ell$')\n",
    "ax[0].set_ylabel(r'$Cl^{kg}_{\\ell}$')\n",
    "ax[0].set_yscale('log')\n",
    "\n",
    "# gaussian, kg\n",
    "nlkk = np.loadtxt(data_path1+'NOISE_ESTIMATE.TXT')\n",
    "err = np.sqrt(1/(2*ls+1)*(clgg_input_nl[:,1][ls]*(clkk_th[ls]+nlkk[ls])+clgg_input_nl[:,1][ls]**2))\n",
    "ax[1].errorbar(ls, clgg_input_nl[:,1][ls], yerr=err, label='th nonlinear')\n",
    "ax[1].legend()\n",
    "ax[1].set_xlabel(r'$\\ell$')\n",
    "ax[1].set_xlabel(r'$\\ell$')\n",
    "ax[1].set_ylabel(r'$Cl^{gg}_{\\ell}$')\n",
    "ax[1].set_yscale('log')"
   ]
  },
  {
   "cell_type": "markdown",
   "id": "f0aef9ad",
   "metadata": {},
   "source": [
    "# Calculate covariance matrix using NaMaster, for i=2, j=2"
   ]
  },
  {
   "cell_type": "code",
   "execution_count": 49,
   "id": "f482cf7d",
   "metadata": {},
   "outputs": [],
   "source": [
    "nside = 256\n",
    "cl_gg = clgg_input_nl[:,1]\n",
    "cl_kg = clkg_input_nl[:,1]\n",
    "cl_kk = clkk_th"
   ]
  },
  {
   "cell_type": "code",
   "execution_count": 50,
   "id": "cf981c44",
   "metadata": {},
   "outputs": [
    {
     "name": "stderr",
     "output_type": "stream",
     "text": [
      "WARNING: AstropyDeprecationWarning: \"verbose\" was deprecated in version 1.15.0 and will be removed in a future version.  [warnings]\n",
      "WARNING: AstropyDeprecationWarning: \"verbose\" was deprecated in version 1.15.0 and will be removed in a future version.  [warnings]\n"
     ]
    }
   ],
   "source": [
    "# test a mask provided by NaMaster\n",
    "mask = nmt.mask_apodization(hp.read_map(data_path1 + \"mask.fits\", verbose=False),\n",
    "                            1., apotype=\"Smooth\")\n",
    "\n",
    "mp_g, mp_k, mp_test = hp.synfast([cl_gg,cl_kg,cl_kk,np.zeros_like(cl_gg)], nside, verbose=False, pol=False)\n",
    "fg = nmt.NmtField(mask, [mp_g])\n",
    "fk = nmt.NmtField(mask, [mp_k])\n",
    "\n",
    "# We will use 20 multipoles per bandpower.\n",
    "b = nmt.NmtBin.from_nside_linear(nside, 20)\n",
    "\n",
    "wgg = nmt.NmtWorkspace()\n",
    "wgg.compute_coupling_matrix(fg, fg, b)\n",
    "\n",
    "wkg = nmt.NmtWorkspace()\n",
    "wkg.compute_coupling_matrix(fg, fk, b)\n",
    "\n",
    "wkk = nmt.NmtWorkspace()\n",
    "wkk.compute_coupling_matrix(fk, fk, b)"
   ]
  },
  {
   "cell_type": "code",
   "execution_count": 51,
   "id": "b001161f",
   "metadata": {},
   "outputs": [],
   "source": [
    "cl_gg_coupled = nmt.compute_coupled_cell(fg, fg)\n",
    "cl_gg_decoupled = wgg.decouple_cell(cl_gg_coupled)\n",
    "n_ell = len(cl_gg_decoupled[0])\n",
    "\n",
    "cw = nmt.NmtCovarianceWorkspace()\n",
    "cw.compute_coupling_coefficients(fg,fg,fg,fg)"
   ]
  },
  {
   "cell_type": "code",
   "execution_count": 53,
   "id": "8987d073",
   "metadata": {},
   "outputs": [],
   "source": [
    "covar_gg_gg_coupled = nmt.gaussian_covariance(cw, 0, 0, 0, 0,\n",
    "                                              [cl_gg],\n",
    "                                              [cl_gg],\n",
    "                                              [cl_gg],\n",
    "                                              [cl_gg],\n",
    "                                              wgg, coupled=True)\n",
    "\n",
    "covar_gg_kg_coupled = nmt.gaussian_covariance(cw, 0, 0, 0, 0,\n",
    "                                              [cl_kg],\n",
    "                                              [cl_gg],\n",
    "                                              [cl_kg],\n",
    "                                              [cl_gg],\n",
    "                                              wgg, coupled=True)\n",
    "\n",
    "covar_gg_kk_coupled = nmt.gaussian_covariance(cw, 0, 0, 0, 0,\n",
    "                                              [cl_kg],\n",
    "                                              [cl_kg],\n",
    "                                              [cl_kg],\n",
    "                                              [cl_kg],\n",
    "                                              wgg, coupled=True)\n",
    "\n",
    "covar_kg_kg_coupled = nmt.gaussian_covariance(cw, 0, 0, 0, 0,\n",
    "                                              [cl_kk],\n",
    "                                              [cl_kg],\n",
    "                                              [cl_kg],\n",
    "                                              [cl_gg],\n",
    "                                              wgg, coupled=True)\n",
    "\n",
    "covar_kg_kk_coupled = nmt.gaussian_covariance(cw, 0, 0, 0, 0,\n",
    "                                              [cl_kk],\n",
    "                                              [cl_kk],\n",
    "                                              [cl_kg],\n",
    "                                              [cl_kg],\n",
    "                                              wgg, coupled=True)\n",
    "\n",
    "covar_kk_kk_coupled = nmt.gaussian_covariance(cw, 0, 0, 0, 0,\n",
    "                                              [cl_kk],\n",
    "                                              [cl_kk],\n",
    "                                              [cl_kk],\n",
    "                                              [cl_kk],\n",
    "                                              wgg, coupled=True)"
   ]
  },
  {
   "cell_type": "code",
   "execution_count": 54,
   "id": "e6b4be59",
   "metadata": {},
   "outputs": [
    {
     "data": {
      "text/plain": [
       "<matplotlib.image.AxesImage at 0x7f26dcca4850>"
      ]
     },
     "execution_count": 54,
     "metadata": {},
     "output_type": "execute_result"
    },
    {
     "data": {
      "image/png": "[encoded data removed]",
      "text/plain": [
       "<Figure size 432x288 with 1 Axes>"
      ]
     },
     "metadata": {
      "needs_background": "light"
     },
     "output_type": "display_data"
    }
   ],
   "source": [
    "plt.figure()\n",
    "plt.imshow(covar_gg_gg_coupled)"
   ]
  },
  {
   "cell_type": "code",
   "execution_count": 55,
   "id": "2ca11fbc",
   "metadata": {},
   "outputs": [
    {
     "data": {
      "image/png": "[encoded data removed]",
      "text/plain": [
       "<Figure size 432x288 with 1 Axes>"
      ]
     },
     "metadata": {
      "needs_background": "light"
     },
     "output_type": "display_data"
    }
   ],
   "source": [
    "plt.plot(np.diag(covar_gg_gg_coupled)[50:750])\n",
    "plt.xscale('log')\n",
    "plt.yscale('log')"
   ]
  },
  {
   "cell_type": "code",
   "execution_count": 56,
   "id": "f221a87b",
   "metadata": {},
   "outputs": [
    {
     "data": {
      "image/png": "[encoded data removed]",
      "text/plain": [
       "<Figure size 432x288 with 1 Axes>"
      ]
     },
     "metadata": {
      "needs_background": "light"
     },
     "output_type": "display_data"
    }
   ],
   "source": [
    "plt.plot(np.diag(covar_kg_kg_coupled)[50:750])\n",
    "plt.xscale('log')\n",
    "plt.yscale('log')"
   ]
  },
  {
   "cell_type": "code",
   "execution_count": null,
   "id": "13e43278",
   "metadata": {},
   "outputs": [],
   "source": []
  }
 ],
 "metadata": {
  "kernelspec": {
   "display_name": "Python 3",
   "language": "python",
   "name": "python3"
  },
  "language_info": {
   "codemirror_mode": {
    "name": "ipython",
    "version": 3
   },
   "file_extension": ".py",
   "mimetype": "text/x-python",
   "name": "python",
   "nbconvert_exporter": "python",
   "pygments_lexer": "ipython3",
   "version": "3.8.8"
  },
  "name": "th_nonlinear.ipynb"
 },
 "nbformat": 4,
 "nbformat_minor": 5
}
