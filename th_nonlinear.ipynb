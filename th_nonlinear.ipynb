{
 "cells": [
  {
   "cell_type": "code",
   "execution_count": 34,
   "id": "39ed770e",
   "metadata": {
    "collapsed": false
   },
   "outputs": [],
   "source": [
    "import numpy as np\n",
    "import matplotlib.pylab as plt\n",
    "import pandas as pd\n",
    "import healpy as hp\n",
    "import pymaster as nmt\n",
    "import pyccl as ccl\n",
    "from tools import *\n",
    "import pyccl.nl_pt as pt"
   ]
  },
  {
   "cell_type": "markdown",
   "id": "e756de97",
   "metadata": {
    "collapsed": false
   },
   "source": [
    "# Read catalog and split the redshift bins"
   ]
  },
  {
   "cell_type": "code",
   "execution_count": 35,
   "id": "4ac77d88",
   "metadata": {
    "collapsed": false
   },
   "outputs": [
    {
     "name": "stdout",
     "output_type": "stream",
     "text": [
      "2236462  total number of galaxies\n",
      "1599487  total number of galaxies\n",
      "1627408  total number of galaxies\n"
     ]
    },
    {
     "name": "stdout",
     "output_type": "stream",
     "text": [
      "2175171  total number of galaxies\n",
      "1583679  total number of galaxies\n",
      "1494243  total number of galaxies\n"
     ]
    }
   ],
   "source": [
    "# data_path1 =  '/home/gabriela/Documents/Pesquisa/kxgal_new/data/data_input/raw_data/monroy/'\n",
    "data_path1 = \"/home/ketchup/DES_ACT_test/\"\n",
    "\n",
    "cat = load_fits2pd(data_path1+'data.fits')\n",
    "cat_z1  = cat[(cat['DNF_ZMEAN_SOF']> 0.2) &(cat['DNF_ZMEAN_SOF']< 0.40) ]\n",
    "print(len(cat_z1) ,' total number of galaxies' )\n",
    "cat_z1.index = range(len(cat_z1))\n",
    "\n",
    "cat_z2  = cat[(cat['DNF_ZMEAN_SOF']> 0.4) &(cat['DNF_ZMEAN_SOF']< 0.55) ]\n",
    "print(len(cat_z2) ,' total number of galaxies' )\n",
    "cat_z2.index = range(len(cat_z2))\n",
    "\n",
    "\n",
    "cat_z3  = cat[(cat['DNF_ZMEAN_SOF']> 0.55) &(cat['DNF_ZMEAN_SOF']< 0.7) ]\n",
    "print(len(cat_z3) ,' total number of galaxies' )\n",
    "cat_z3.index = range(len(cat_z3))\n",
    "\n",
    "\n",
    "cat_z4  = cat[(cat['DNF_ZMEAN_SOF']> 0.7) &(cat['DNF_ZMEAN_SOF']< 0.85) ]\n",
    "print(len(cat_z4) ,' total number of galaxies' )\n",
    "cat_z4.index = range(len(cat_z4))\n",
    "\n",
    "\n",
    "cat_z5  = cat[(cat['DNF_ZMEAN_SOF']> 0.85) &(cat['DNF_ZMEAN_SOF']< 0.95) ]\n",
    "print(len(cat_z5) ,' total number of galaxies' )\n",
    "cat_z5.index = range(len(cat_z5))\n",
    "\n",
    "\n",
    "cat_z6  = cat[(cat['DNF_ZMEAN_SOF']> 0.95) &(cat['DNF_ZMEAN_SOF']< 1.05) ]\n",
    "print(len(cat_z6) ,' total number of galaxies' )\n",
    "cat_z6.index = range(len(cat_z6))\n",
    "catals = [cat_z1,cat_z2,cat_z3,cat_z4,cat_z5,cat_z6]\n",
    "\n",
    "des_bins = 6\n",
    "cls_arr = []\n",
    "clkg_arr = []"
   ]
  },
  {
   "cell_type": "markdown",
   "id": "ebd9c9b4",
   "metadata": {
    "collapsed": false
   },
   "source": [
    "# Set fiducial parameters, firstly follow the fiducial parameters listed in https://arxiv.org/abs/2105.13546"
   ]
  },
  {
   "cell_type": "code",
   "execution_count": 36,
   "id": "268c00b9",
   "metadata": {
    "collapsed": false
   },
   "outputs": [],
   "source": [
    "cosmo = ccl.Cosmology(Omega_c= 0.252, Omega_b=0.048, h=0.69 , A_s=2.19e-9, n_s=0.97,\n",
    "                      matter_power_spectrum='halofit')\n",
    "# linear galaxy bias\n",
    "bias_zs= [1.5,1.8,1.8,1.9,1.57,1.64]\n",
    "# nonlinear galaxy bias, given by the combinination of b and sigma_8\n",
    "bias_1_zs_sigma8 = [1.43,1.43,1.43,1.69,1.69,1.69]\n",
    "bias_2_zs_sigma8 = [0.16,0.16,0.16,0.36,0.36,0.36]\n",
    "sigma_8 = 0.758\n",
    "bias_1_zs = np.array(bias_1_zs_sigma8)/sigma_8\n",
    "bias_2_zs = np.array(bias_2_zs_sigma8)/sigma_8\n",
    "bias_s_zs = -4/7*(bias_1_zs-1)\n",
    "\n",
    "# lens magnification\n",
    "sz_zs = [0.642, 0.63, 0.766, 0.794, 0.756, 0.896]\n",
    "\n",
    "# nide \n",
    "nside = 1024"
   ]
  },
  {
   "cell_type": "code",
   "execution_count": 37,
   "id": "49d7c193",
   "metadata": {
    "collapsed": false
   },
   "outputs": [],
   "source": [
    "# Get the CMB lensing PS based on the fiducal cosmology"
   ]
  },
  {
   "cell_type": "code",
   "execution_count": 38,
   "id": "2d6bc59c",
   "metadata": {
    "collapsed": false
   },
   "outputs": [],
   "source": [
    "ell = np.arange(0, 3*nside-1)\n",
    "cmbl = ccl.CMBLensingTracer(cosmo, 1090.)\n",
    "clkk_th  =  ccl.angular_cl(cosmo, cmbl,cmbl, ell)"
   ]
  },
  {
   "cell_type": "markdown",
   "id": "c5a47738",
   "metadata": {
    "collapsed": false
   },
   "source": [
    "# Compute and save theory Cls using linear galaxy bias model,  based on Gabriela's script "
   ]
  },
  {
   "cell_type": "code",
   "execution_count": 46,
   "id": "bf9ce6c1",
   "metadata": {
    "collapsed": false,
    "scrolled": true
   },
   "outputs": [],
   "source": [
    "for i in range(des_bins):\n",
    "    zz, nz = get_nz(catals[i])\n",
    "    \n",
    "    ccl_z1 = ccl.NumberCountsTracer(cosmo,False,(zz,nz), bias= (zz, bias_zs[i]*np.ones(len(zz)) ),  mag_bias=  (zz, sz_zs[i]*np.ones(len(zz)) ))\n",
    "    #CL_k_bin\n",
    "    cl_kg_th = ccl.angular_cl(cosmo, ccl_z1,cmbl, ell)\n",
    "    np.savetxt(data_path1 + 'input_linear/clkg_input_z%s.dat' %(i+1), np.transpose((ell, cl_kg_th)))\n",
    "\n",
    "    for j in range(i, des_bins):\n",
    "        \n",
    "        zz, nz = get_nz(catals[j])\n",
    "        ccl_z2 = ccl.NumberCountsTracer(cosmo,False,(zz,nz), bias= (zz, bias_zs[j]*np.ones(len(zz)) ),  mag_bias=  (zz, sz_zs[j]*np.ones(len(zz)) ))\n",
    "\n",
    "        #CL_g1_g2\n",
    "        cl_gg_th = ccl.angular_cl(cosmo, ccl_z1,ccl_z2, ell)\n",
    "        np.savetxt(data_path1 + 'input_linear/clgg_input_z%sf2z%s.dat' %(i+1,j+1), np.transpose((ell, cl_gg_th)))"
   ]
  },
  {
   "cell_type": "markdown",
   "id": "2a5b1fc0",
   "metadata": {
    "collapsed": false
   },
   "source": [
    "# Compute and save theory Cls using non linear galaxy bias model,  edited by Hongbo"
   ]
  },
  {
   "cell_type": "code",
   "execution_count": 40,
   "id": "15ea2947",
   "metadata": {
    "collapsed": false
   },
   "outputs": [],
   "source": [
    "# consider nonlinear galaxy bias here, use PT tools\n",
    "ptc = pt.PTCalculator(with_NC=True, with_IA=True,\n",
    "                      log10k_min=-4, log10k_max=2, nk_per_decade=20)\n",
    "\n",
    "for i in range(des_bins):\n",
    "    zz, nz = get_nz(catals[i])\n",
    "    \n",
    "    ccl_z1 = ccl.NumberCountsTracer(cosmo,False,(zz,nz), bias= (zz, np.ones(len(zz)) ),  mag_bias=  (zz, sz_zs[i]*np.ones(len(zz)) ))\n",
    "        \n",
    "\n",
    "    ptt_g_z1 = pt.PTNumberCountsTracer(b1=(zz, bias_1_zs[i]*np.ones(len(zz))), b2=(zz, bias_2_zs[i]*np.ones(len(zz))), bs=(zz, bias_s_zs[i]*np.ones(len(zz))))\n",
    "    ptt_m = pt.PTMatterTracer()\n",
    "\n",
    "    pk_gm = pt.get_pt_pk2d(cosmo, ptt_g_z1, tracer2=ptt_m, ptc=ptc)\n",
    "\n",
    "    #CL_k_bin\n",
    "    cl_kg_th = ccl.angular_cl(cosmo, ccl_z1, cmbl, ell, p_of_k_a=pk_gm)\n",
    "    np.savetxt(data_path1 + 'input_nonlinear/clkg_input_nl_z%s.dat' %(i+1), np.transpose((ell, cl_kg_th)))\n",
    "    \n",
    "    for j in range(i, des_bins):        \n",
    "        zz, nz = get_nz(catals[j])\n",
    "        \n",
    "        ccl_z2 = ccl.NumberCountsTracer(cosmo,False,(zz,nz), bias= (zz, np.ones(len(zz)) ),  mag_bias=  (zz, sz_zs[j]*np.ones(len(zz)) ))\n",
    "        \n",
    "        ptt_g_z2 = pt.PTNumberCountsTracer(b1=(zz, bias_1_zs[j]*np.ones(len(zz))), b2=(zz, bias_2_zs[j]*np.ones(len(zz))), bs=(zz, bias_s_zs[j]*np.ones(len(zz))))\n",
    "\n",
    "        pk_gg = pt.get_pt_pk2d(cosmo, ptt_g_z1, tracer2=ptt_g_z2, ptc=ptc)\n",
    "        #CL_g1_g2 \n",
    "        cl_gg_th = ccl.angular_cl(cosmo, ccl_z1, ccl_z2, ell, p_of_k_a=pk_gg)\n",
    "        np.savetxt(data_path1 + 'input_nonlinear/clgg_input_nl_z%sf2z%s.dat' %(i+1,j+1), np.transpose((ell, cl_gg_th)))"
   ]
  },
  {
   "cell_type": "markdown",
   "id": "8f2c8c3d",
   "metadata": {
    "collapsed": false
   },
   "source": [
    "# Test Cls_linear and Cls_nonlinear"
   ]
  },
  {
   "cell_type": "code",
   "execution_count": 55,
   "id": "aa524354",
   "metadata": {
    "collapsed": false
   },
   "outputs": [],
   "source": [
    "# plot scale\n",
    "lmin = 2\n",
    "lmax = 1000\n",
    "ls = np.arange(lmin, lmax+1, 1)"
   ]
  },
  {
   "cell_type": "code",
   "execution_count": 57,
   "id": "502937de",
   "metadata": {
    "collapsed": false
   },
   "outputs": [
    {
     "data": {
      "image/png": "[encoded data removed]",
      "text/plain": [
       "<Figure size 432x288 with 1 Axes>"
      ]
     },
     "metadata": {
      "needs_background": "light"
     },
     "output_type": "display_data"
    }
   ],
   "source": [
    "# plot clgg\n",
    "i,j = 1, 1\n",
    "\n",
    "clgg_input = np.loadtxt(data_path1+'input_linear/clgg_input_z%sf2z%s.dat' %(i,j))\n",
    "clgg_input_nl = np.loadtxt(data_path1+'input_nonlinear/clgg_input_nl_z%sf2z%s.dat' %(i,j))\n",
    "plt.plot(ls, clgg_input[:,1][ls], label='th linear')\n",
    "plt.plot(ls, clgg_input_nl[:,1][ls], label='th nonlinear')\n",
    "plt.legend()\n",
    "plt.xlabel(r'$\\ell$')\n",
    "plt.ylabel(r'$Cl^{gg}_{\\ell}$')\n",
    "plt.yscale('log')"
   ]
  },
  {
   "cell_type": "code",
   "execution_count": 59,
   "id": "d2a384b5",
   "metadata": {
    "collapsed": false
   },
   "outputs": [
    {
     "data": {
      "image/png": "[encoded data removed]",
      "text/plain": [
       "<Figure size 432x288 with 1 Axes>"
      ]
     },
     "metadata": {
      "needs_background": "light"
     },
     "output_type": "display_data"
    }
   ],
   "source": [
    "# plot clkg\n",
    "i = 1\n",
    "\n",
    "clkg_input = np.loadtxt(data_path1+'input_linear/clkg_input_z%s.dat' %i)\n",
    "clkg_input_nl = np.loadtxt(data_path1+'input_nonlinear/clkg_input_nl_z%s.dat' %i)\n",
    "plt.plot(ls, clkg_input[:,1][ls], label='th linear')\n",
    "plt.plot(ls, clkg_input_nl[:,1][ls], label='th nonlinear')\n",
    "plt.legend()\n",
    "plt.xlabel(r'$\\ell$')\n",
    "plt.ylabel(r'$Cl^{kg}_{\\ell}$')\n",
    "plt.yscale('log')"
   ]
  },
  {
   "cell_type": "markdown",
   "id": "20befce9",
   "metadata": {
    "collapsed": false
   },
   "source": [
    "# Calculating Power Spectrum Gaussian Errors, need checking here"
   ]
  },
  {
   "cell_type": "code",
   "execution_count": 67,
   "id": "9c0f6ebe",
   "metadata": {
    "collapsed": false
   },
   "outputs": [
    {
     "name": "stderr",
     "output_type": "stream",
     "text": [
      "No handles with labels found to put in legend.\n"
     ]
    },
    {
     "data": {
      "image/png": "[encoded data removed]",
      "text/plain": [
       "<Figure size 432x288 with 1 Axes>"
      ]
     },
     "metadata": {
      "needs_background": "light"
     },
     "output_type": "display_data"
    }
   ],
   "source": [
    "# gaussian, gg\n",
    "err = np.sqrt(2/(2*ls+1)*clgg_input_nl[:,1][ls]**2)\n",
    "plt.errorbar(ls, clgg_input_nl[:,1][ls], yerr=err)\n",
    "plt.legend()\n",
    "plt.xlabel(r'$\\ell$')\n",
    "plt.ylabel(r'$Cl^{gg}_{\\ell}$')\n",
    "plt.yscale('log')"
   ]
  },
  {
   "cell_type": "code",
   "execution_count": 72,
   "id": "3831d883",
   "metadata": {
    "collapsed": false
   },
   "outputs": [
    {
     "name": "stderr",
     "output_type": "stream",
     "text": [
      "No handles with labels found to put in legend.\n"
     ]
    },
    {
     "data": {
      "image/png": "[encoded data removed]",
      "text/plain": [
       "<Figure size 432x288 with 1 Axes>"
      ]
     },
     "metadata": {
      "needs_background": "light"
     },
     "output_type": "display_data"
    }
   ],
   "source": [
    "# gaussian, kg\n",
    "nlkk = np.loadtxt(data_path1+'NOISE_ESTIMATE.TXT')\n",
    "err = np.sqrt(1/(2*ls+1)*(clgg_input_nl[:,1][ls]*(clkk_th[ls]+nlkk[ls])+clgg_input_nl[:,1][ls]**2))\n",
    "\n",
    "plt.errorbar(ls, clgg_input_nl[:,1][ls], yerr=err)\n",
    "plt.legend()\n",
    "plt.xlabel(r'$\\ell$')\n",
    "plt.ylabel(r'$Cl^{kg}_{\\ell}$')\n",
    "plt.yscale('log')"
   ]
  },
  {
   "cell_type": "code",
   "execution_count": null,
   "id": "7e36ce13",
   "metadata": {
    "collapsed": false
   },
   "outputs": [],
   "source": []
  }
 ],
 "metadata": {
  "kernelspec": {
   "argv": [
    "/home/ketchup/anaconda3/bin/python",
    "-m",
    "ipykernel_launcher",
    "-f",
    "{connection_file}"
   ],
   "display_name": "Python 3",
   "env": null,
   "interrupt_mode": "signal",
   "language": "python",
   "metadata": null,
   "name": "python3"
  },
  "language_info": {
   "codemirror_mode": {
    "name": "ipython",
    "version": 3
   },
   "file_extension": ".py",
   "mimetype": "text/x-python",
   "name": "python",
   "nbconvert_exporter": "python",
   "pygments_lexer": "ipython3",
   "version": "3.8.8"
  },
  "name": "th_nonlinear.ipynb"
 },
 "nbformat": 4,
 "nbformat_minor": 5
}
