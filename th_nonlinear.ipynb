{
 "cells": [
  {
   "cell_type": "code",
   "execution_count": 1,
   "id": "62f1781b",
   "metadata": {
    "collapsed": false
   },
   "outputs": [],
   "source": [
    "import numpy as np\n",
    "import matplotlib.pylab as plt\n",
    "import pandas as pd\n",
    "import healpy as hp\n",
    "import pymaster as nmt\n",
    "import pyccl as ccl\n",
    "from astropy.table import Table\n",
    "from scipy.interpolate import interp1d\n",
    "from scipy.integrate import simps"
   ]
  },
  {
   "cell_type": "code",
   "execution_count": 38,
   "id": "4cce4638",
   "metadata": {
    "collapsed": false
   },
   "outputs": [],
   "source": [
    "\n",
    "def load_fits2pd(fits_file):\n",
    "    cat  = Table.read(fits_file, format='fits')\n",
    "    names = [name for name in cat.colnames if len(cat[name].shape) <= 1]\n",
    "    catt = cat[names].to_pandas()\n",
    "    return catt\n",
    "\n",
    "def get_nz(cat):\n",
    "    z_in = np.linspace(0.0, 1.5, 100) \n",
    "    nz, zz = np.histogram(cat['DNF_ZMC_SOF'], bins=100, density=None)\n",
    "    zz = 0.5 * (zz[1:]+zz[:-1])\n",
    "    nz_normed = nz/ simps(nz, zz)\n",
    "    _p_of_z = interp1d(zz, nz_normed,bounds_error=False, fill_value=0.)\n",
    "    nz_in = _p_of_z(z_in)\n",
    "    return z_in, nz_in\n",
    "    "
   ]
  },
  {
   "cell_type": "code",
   "execution_count": 34,
   "id": "621b2880",
   "metadata": {
    "collapsed": false
   },
   "outputs": [],
   "source": [
    "# linear galaxy bias\n",
    "bias_zs= [1.5,1.8,1.8,1.9,2.0,2.0]\n",
    "# bias_zs= [1.5,1.8,1.8,1.9,1.57,1.64]\n",
    "sz_zs = [0.642, 0.63 , 0.776, 0.794, 0.756, 0.896]\n",
    "\n",
    "cosmo = ccl.Cosmology(Omega_c= 0.26, Omega_b=0.049, h=0.69 , A_s=2.19e-9, n_s=0.97,\n",
    "                      matter_power_spectrum='halofit')\n",
    "nside = 1024\n",
    "ell = np.arange(0, 3*nside-1)\n",
    "cmbl = ccl.CMBLensingTracer(cosmo, 1090.)\n",
    "clkk_th  =  ccl.angular_cl(cosmo, cmbl,cmbl, ell)\n"
   ]
  },
  {
   "cell_type": "markdown",
   "id": "565bd783",
   "metadata": {
    "collapsed": false
   },
   "source": [
    "# Read catalog and split the redshift bins\n"
   ]
  },
  {
   "cell_type": "code",
   "execution_count": 5,
   "id": "d0c1af67",
   "metadata": {
    "collapsed": false
   },
   "outputs": [
    {
     "name": "stdout",
     "output_type": "stream",
     "text": [
      "2236462  total number of galaxies\n",
      "1599487  total number of galaxies\n",
      "1627408  total number of galaxies\n"
     ]
    },
    {
     "name": "stdout",
     "output_type": "stream",
     "text": [
      "2175171  total number of galaxies\n",
      "1583679  total number of galaxies\n",
      "1494243  total number of galaxies\n"
     ]
    }
   ],
   "source": [
    " \n",
    "# data_path1 =  '/home/gabriela/Documents/Pesquisa/kxgal_new/data/data_input/raw_data/monroy/'\n",
    "data_path1 = \"/home/ketchup/DES_ACT/\"\n",
    "cat = load_fits2pd(data_path1+'data.fits')\n",
    "cat_z1  = cat[(cat['DNF_ZMEAN_SOF']> 0.2) &(cat['DNF_ZMEAN_SOF']< 0.40) ]\n",
    "print(len(cat_z1) ,' total number of galaxies' )\n",
    "cat_z1.index = range(len(cat_z1))\n",
    "\n",
    "cat_z2  = cat[(cat['DNF_ZMEAN_SOF']> 0.4) &(cat['DNF_ZMEAN_SOF']< 0.55) ]\n",
    "print(len(cat_z2) ,' total number of galaxies' )\n",
    "cat_z2.index = range(len(cat_z2))\n",
    "\n",
    "\n",
    "cat_z3  = cat[(cat['DNF_ZMEAN_SOF']> 0.55) &(cat['DNF_ZMEAN_SOF']< 0.7) ]\n",
    "print(len(cat_z3) ,' total number of galaxies' )\n",
    "cat_z3.index = range(len(cat_z3))\n",
    "\n",
    "\n",
    "cat_z4  = cat[(cat['DNF_ZMEAN_SOF']> 0.7) &(cat['DNF_ZMEAN_SOF']< 0.85) ]\n",
    "print(len(cat_z4) ,' total number of galaxies' )\n",
    "cat_z4.index = range(len(cat_z4))\n",
    "\n",
    "\n",
    "cat_z5  = cat[(cat['DNF_ZMEAN_SOF']> 0.85) &(cat['DNF_ZMEAN_SOF']< 0.95) ]\n",
    "print(len(cat_z5) ,' total number of galaxies' )\n",
    "cat_z5.index = range(len(cat_z5))\n",
    "\n",
    "\n",
    "cat_z6  = cat[(cat['DNF_ZMEAN_SOF']> 0.95) &(cat['DNF_ZMEAN_SOF']< 1.05) ]\n",
    "print(len(cat_z6) ,' total number of galaxies' )\n",
    "cat_z6.index = range(len(cat_z6))\n",
    "catals = [cat_z1,cat_z2,cat_z3,cat_z4,cat_z5,cat_z6]"
   ]
  },
  {
   "cell_type": "code",
   "execution_count": 31,
   "id": "16a51520",
   "metadata": {
    "collapsed": false,
    "scrolled": true
   },
   "outputs": [],
   "source": [
    "##############################################################################\n",
    "################ Compute the Th. cls (linear galaxy model) ###############\n",
    "##############################################################################\n",
    "\n",
    "##############################################################################\n",
    " \n",
    "des_bins = 6\n",
    "cls_arr = []\n",
    "clkg_arr = []\n",
    "\n",
    "for i in range(des_bins):\n",
    "  \n",
    "    zz, nz = get_nz(catals[i])\n",
    "    \n",
    "    ccl_z1 = ccl.NumberCountsTracer(cosmo,False,(zz,nz), bias= (zz, bias_zs[i]*np.ones(len(zz)) ),  mag_bias=  (zz, sz_zs[i]*np.ones(len(zz)) ))\n",
    "    cl_kg_th = ccl.angular_cl(cosmo, ccl_z1,cmbl, ell) #CL_k_bin\n",
    "\n",
    "    for j in range(i, des_bins):\n",
    "        \n",
    "        zz, nz = get_nz(catals[j])\n",
    "        ccl_z2 = ccl.NumberCountsTracer(cosmo,False,(zz,nz), bias= (zz, bias_zs[j]*np.ones(len(zz)) ),  mag_bias=  (zz, sz_zs[j]*np.ones(len(zz)) ))\n",
    "\n",
    "        cl_gg_th = ccl.angular_cl(cosmo, ccl_z1,ccl_z2, ell) #CL_g1_g2\n",
    " "
   ]
  },
  {
   "cell_type": "code",
   "execution_count": 41,
   "id": "de5a6984",
   "metadata": {
    "collapsed": false
   },
   "outputs": [],
   "source": [
    "import pyccl.nl_pt as pt\n",
    "ptc = pt.PTCalculator(with_NC=True, with_IA=True,\n",
    "                      log10k_min=-4, log10k_max=2, nk_per_decade=20)"
   ]
  },
  {
   "cell_type": "code",
   "execution_count": 65,
   "id": "9a9dcffc",
   "metadata": {
    "collapsed": false
   },
   "outputs": [],
   "source": [
    "# nonlinear galaxy bias\n",
    "# bias_zs = [1.5,1.8,1.8,1.9,2.0,2.0]\n",
    "bias_1_zs = bias_zs\n",
    "bias_2_zs = [0,0,0,0,0,0]\n",
    "bias_s_zs = [0,0,0,0,0,0]"
   ]
  },
  {
   "cell_type": "code",
   "execution_count": 62,
   "id": "c1606ee2",
   "metadata": {
    "collapsed": false
   },
   "outputs": [],
   "source": [
    "##############################################################################\n",
    "################ Compute the Th. cls (nonlinear galaxy model) ###############\n",
    "##############################################################################\n",
    "\n",
    "##############################################################################\n",
    " \n",
    "des_bins = 6\n",
    "cls_arr = []\n",
    "clkg_arr = []\n",
    "\n",
    "for i in range(des_bins):\n",
    "  \n",
    "    zz, nz = get_nz(catals[i])\n",
    "    \n",
    "    ccl_z1 = ccl.NumberCountsTracer(cosmo,False,(zz,nz), bias= (zz, np.ones(len(zz)) ),  mag_bias=  (zz, sz_zs[i]*np.ones(len(zz)) ))\n",
    "    \n",
    "    # consider nonlinear galaxy bias here, use PT tools\n",
    "    ptt_g = pt.PTNumberCountsTracer(b1=(zz, bias_1_zs[i]*np.ones(len(zz))), b2=(zz, bias_2_zs[i]*np.ones(len(zz))), bs=(zz, bias_s_zs[i]*np.ones(len(zz))))\n",
    "    ptt_m = pt.PTMatterTracer()\n",
    "    \n",
    "    pk_gg = pt.get_pt_pk2d(cosmo, ptt_g, ptc=ptc)\n",
    "    pk_gm = pt.get_pt_pk2d(cosmo, ptt_g, tracer2=ptt_m, ptc=ptc)\n",
    "\n",
    "    #CL_k_bin\n",
    "    cl_kg_th_nl = ccl.angular_cl(cosmo, ccl_z1, cmbl, ell, p_of_k_a=pk_gm)\n",
    "    \n",
    "    for j in range(i, des_bins):\n",
    "        \n",
    "        zz, nz = get_nz(catals[j])\n",
    "        ccl_z2 = ccl.NumberCountsTracer(cosmo,False,(zz,nz), bias= (zz, np.ones(len(zz)) ),  mag_bias=  (zz, sz_zs[j]*np.ones(len(zz)) ))\n",
    "        #CL_g1_g2 \n",
    "        cl_gg_th_nl = ccl.angular_cl(cosmo, ccl_z1,ccl_z2, ell, p_of_k_a=pk_gg) "
   ]
  },
  {
   "cell_type": "code",
   "execution_count": 66,
   "id": "0b9e6588",
   "metadata": {
    "collapsed": false
   },
   "outputs": [
    {
     "name": "stderr",
     "output_type": "stream",
     "text": [
      "<ipython-input-66-1c10f6b60fd4>:1: RuntimeWarning: invalid value encountered in true_divide\n",
      "  plt.plot((cl_kg_th_nl/cl_kg_th)[100:])\n"
     ]
    },
    {
     "data": {
      "text/plain": [
       "[<matplotlib.lines.Line2D at 0x7f622185d2e0>]"
      ]
     },
     "execution_count": 66,
     "metadata": {},
     "output_type": "execute_result"
    },
    {
     "data": {
      "image/png": "[encoded data removed]",
      "text/plain": [
       "<Figure size 432x288 with 1 Axes>"
      ]
     },
     "metadata": {
      "needs_background": "light"
     },
     "output_type": "display_data"
    }
   ],
   "source": [
    "plt.plot((cl_kg_th_nl/cl_kg_th)[100:])"
   ]
  }
 ],
 "metadata": {
  "kernelspec": {
   "argv": [
    "/home/ketchup/anaconda3/bin/python",
    "-m",
    "ipykernel_launcher",
    "-f",
    "{connection_file}"
   ],
   "display_name": "Python 3",
   "env": null,
   "interrupt_mode": "signal",
   "language": "python",
   "metadata": null,
   "name": "python3"
  },
  "language_info": {
   "codemirror_mode": {
    "name": "ipython",
    "version": 3
   },
   "file_extension": ".py",
   "mimetype": "text/x-python",
   "name": "python",
   "nbconvert_exporter": "python",
   "pygments_lexer": "ipython3",
   "version": "3.8.8"
  },
  "name": "th_example.ipynb"
 },
 "nbformat": 4,
 "nbformat_minor": 5
}
