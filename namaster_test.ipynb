{
 "cells": [
  {
   "cell_type": "code",
   "execution_count": 1,
   "id": "56803964",
   "metadata": {
    "collapsed": false
   },
   "outputs": [],
   "source": [
    "import numpy as np\n",
    "import healpy as hp\n",
    "import matplotlib.pyplot as plt\n",
    "import pymaster as nmt"
   ]
  },
  {
   "cell_type": "code",
   "execution_count": 2,
   "id": "51c38f0d",
   "metadata": {
    "collapsed": false
   },
   "outputs": [],
   "source": [
    "nside = 256"
   ]
  },
  {
   "cell_type": "code",
   "execution_count": 3,
   "id": "b7842529",
   "metadata": {
    "collapsed": false
   },
   "outputs": [
    {
     "name": "stderr",
     "output_type": "stream",
     "text": [
      "WARNING: AstropyDeprecationWarning: \"verbose\" was deprecated in version 1.15.0 and will be removed in a future version.  [warnings]\n"
     ]
    }
   ],
   "source": [
    "# a) Read and apodize mask\n",
    "mask_path = \"/home/ketchup/tools/NaMaster/test/\"\n",
    "mask = nmt.mask_apodization(hp.read_map(mask_path + \"mask.fits\", verbose=False),\n",
    "                            1., apotype=\"Smooth\")"
   ]
  },
  {
   "cell_type": "code",
   "execution_count": 4,
   "id": "f4ba1916",
   "metadata": {
    "collapsed": false
   },
   "outputs": [],
   "source": [
    "# Let's now create a fictitious theoretical power spectrum to generate\n",
    "# Gaussian realizations:\n",
    "larr = np.arange(3*nside)\n",
    "clarr = ((larr+1.)/80.)**(-1.1)+1."
   ]
  },
  {
   "cell_type": "code",
   "execution_count": 5,
   "id": "c426dc74",
   "metadata": {
    "collapsed": false
   },
   "outputs": [],
   "source": [
    "cl_tt = clarr\n",
    "cl_ee = clarr\n",
    "cl_bb = 0*clarr\n",
    "cl_te = 0*clarr\n",
    "cl_tb = 0*clarr\n",
    "cl_eb = 0*clarr"
   ]
  },
  {
   "cell_type": "code",
   "execution_count": 6,
   "id": "70e8d448",
   "metadata": {
    "collapsed": false
   },
   "outputs": [],
   "source": [
    "# This routine generates a spin-0 and a spin-2 Gaussian random field based\n",
    "# on these power spectra\n",
    "def get_sample_field():\n",
    "    mp_t, mp_q, mp_u = hp.synfast([cl_tt, cl_ee, cl_bb, cl_te],\n",
    "                                  nside, verbose=False)\n",
    "    return nmt.NmtField(mask, [mp_t]), nmt.NmtField(mask, [mp_q, mp_u])\n",
    "\n",
    "\n",
    "# We also copy this function from sample_workspaces.py. It computes\n",
    "# power spectra given a pair of fields and a workspace.\n",
    "def compute_master(f_a, f_b, wsp):\n",
    "    cl_coupled = nmt.compute_coupled_cell(f_a, f_b)\n",
    "    cl_decoupled = wsp.decouple_cell(cl_coupled)\n",
    "\n",
    "    return cl_decoupled"
   ]
  },
  {
   "cell_type": "code",
   "execution_count": 7,
   "id": "dfd45331",
   "metadata": {
    "collapsed": false
   },
   "outputs": [
    {
     "name": "stdout",
     "output_type": "stream",
     "text": [
      "Field\n"
     ]
    },
    {
     "name": "stderr",
     "output_type": "stream",
     "text": [
      "WARNING: AstropyDeprecationWarning: \"verbose\" was deprecated in version 1.15.0 and will be removed in a future version.  [warnings]\n"
     ]
    }
   ],
   "source": [
    "# Let's generate one particular sample and its power spectrum.\n",
    "print(\"Field\")\n",
    "f0, f2 = get_sample_field()"
   ]
  },
  {
   "cell_type": "code",
   "execution_count": 10,
   "id": "44833eda",
   "metadata": {
    "collapsed": false
   },
   "outputs": [
    {
     "name": "stdout",
     "output_type": "stream",
     "text": [
      "Workspace\n"
     ]
    }
   ],
   "source": [
    "# We will use 20 multipoles per bandpower.\n",
    "b = nmt.NmtBin.from_nside_linear(nside, 20)\n",
    "print(\"Workspace\")\n",
    "w00 = nmt.NmtWorkspace()\n",
    "w00.compute_coupling_matrix(f0, f0, b)\n",
    "w02 = nmt.NmtWorkspace()\n",
    "w02.compute_coupling_matrix(f0, f2, b)\n",
    "w22 = nmt.NmtWorkspace()\n",
    "w22.compute_coupling_matrix(f2, f2, b)\n",
    "cl_00 = compute_master(f0, f0, w00)\n",
    "cl_02 = compute_master(f0, f2, w02)\n",
    "cl_22 = compute_master(f2, f2, w22)\n",
    "n_ell = len(cl_00[0])"
   ]
  },
  {
   "cell_type": "code",
   "execution_count": 11,
   "id": "f04c0822",
   "metadata": {
    "collapsed": false
   },
   "outputs": [
    {
     "name": "stdout",
     "output_type": "stream",
     "text": [
      "Covariance\n"
     ]
    }
   ],
   "source": [
    "# Let's now compute the Gaussian estimate of the covariance!\n",
    "print(\"Covariance\")\n",
    "# First we generate a NmtCovarianceWorkspace object to precompute\n",
    "# and store the necessary coupling coefficients\n",
    "cw = nmt.NmtCovarianceWorkspace()\n",
    "# This is the time-consuming operation\n",
    "# Note that you only need to do this once,\n",
    "# regardless of spin\n",
    "cw.compute_coupling_coefficients(f0, f0, f0, f0)"
   ]
  },
  {
   "cell_type": "code",
   "execution_count": 40,
   "id": "6382e996",
   "metadata": {
    "collapsed": false
   },
   "outputs": [
    {
     "data": {
      "text/plain": [
       "767"
      ]
     },
     "execution_count": 40,
     "metadata": {},
     "output_type": "execute_result"
    }
   ],
   "source": [
    "cw.wsp.lmax"
   ]
  },
  {
   "cell_type": "code",
   "execution_count": 39,
   "id": "1f21c795",
   "metadata": {
    "collapsed": false
   },
   "outputs": [],
   "source": [
    "covar_00_00 = nmt.gaussian_covariance(cw,\n",
    "                                      0, 0, 0, 0,  # Spins of the 4 fields\n",
    "                                      [cl_tt],  # TT\n",
    "                                      [cl_tt],  # TT\n",
    "                                      [cl_tt],  # TT\n",
    "                                      [cl_tt],  # TT\n",
    "                                      w00, wb=w00).reshape([n_ell, 1,\n",
    "                                                            n_ell, 1])\n",
    "\n",
    "covar_TT_TT = covar_00_00[:, 0, :, 0]\n",
    "covar_02_02 = nmt.gaussian_covariance(cw, 0, 2, 0, 2,  # Spins of the 4 fields\n",
    "                                      [cl_tt],  # TT\n",
    "                                      [cl_te, cl_tb],  # TE, TB\n",
    "                                      [cl_te, cl_tb],  # ET, BT\n",
    "                                      [cl_ee, cl_eb,\n",
    "                                       cl_eb, cl_bb],  # EE, EB, BE, BB\n",
    "                                      w02, wb=w02).reshape([n_ell, 2,\n",
    "                                                            n_ell, 2])\n",
    "covar_TE_TE = covar_02_02[:, 0, :, 0]\n",
    "covar_TE_TB = covar_02_02[:, 0, :, 1]\n",
    "covar_TB_TE = covar_02_02[:, 1, :, 0]\n",
    "covar_TB_TB = covar_02_02[:, 1, :, 1]\n",
    "\n",
    "covar_00_22 = nmt.gaussian_covariance(cw, 0, 0, 2, 2,  # Spins of the 4 fields\n",
    "                                      [cl_te, cl_tb],  # TE, TB\n",
    "                                      [cl_te, cl_tb],  # TE, TB\n",
    "                                      [cl_te, cl_tb],  # TE, TB\n",
    "                                      [cl_te, cl_tb],  # TE, TB\n",
    "                                      w00, wb=w22).reshape([n_ell, 1,\n",
    "                                                            n_ell, 4])\n",
    "covar_TT_EE = covar_00_22[:, 0, :, 0]\n",
    "covar_TT_EB = covar_00_22[:, 0, :, 1]\n",
    "covar_TT_BE = covar_00_22[:, 0, :, 2]\n",
    "covar_TT_BB = covar_00_22[:, 0, :, 3]\n",
    "\n",
    "covar_02_22 = nmt.gaussian_covariance(cw, 0, 2, 2, 2,  # Spins of the 4 fields\n",
    "                                      [cl_te, cl_tb],  # TE, TB\n",
    "                                      [cl_te, cl_tb],  # TE, TB\n",
    "                                      [cl_ee, cl_eb,\n",
    "                                       cl_eb, cl_bb],  # EE, EB, BE, BB\n",
    "                                      [cl_ee, cl_eb,\n",
    "                                       cl_eb, cl_bb],  # EE, EB, BE, BB\n",
    "                                      w02, wb=w22).reshape([n_ell, 2,\n",
    "                                                            n_ell, 4])\n",
    "covar_TE_EE = covar_02_22[:, 0, :, 0]\n",
    "covar_TE_EB = covar_02_22[:, 0, :, 1]\n",
    "covar_TE_BE = covar_02_22[:, 0, :, 2]\n",
    "covar_TE_BB = covar_02_22[:, 0, :, 3]\n",
    "covar_TB_EE = covar_02_22[:, 1, :, 0]\n",
    "covar_TB_EB = covar_02_22[:, 1, :, 1]\n",
    "covar_TB_BE = covar_02_22[:, 1, :, 2]\n",
    "covar_TB_BB = covar_02_22[:, 1, :, 3]\n",
    "\n",
    "covar_22_22 = nmt.gaussian_covariance(cw, 2, 2, 2, 2,  # Spins of the 4 fields\n",
    "                                      [cl_ee, cl_eb,\n",
    "                                       cl_eb, cl_bb],  # EE, EB, BE, BB\n",
    "                                      [cl_ee, cl_eb,\n",
    "                                       cl_eb, cl_bb],  # EE, EB, BE, BB\n",
    "                                      [cl_ee, cl_eb,\n",
    "                                       cl_eb, cl_bb],  # EE, EB, BE, BB\n",
    "                                      [cl_ee, cl_eb,\n",
    "                                       cl_eb, cl_bb],  # EE, EB, BE, BB\n",
    "                                      w22, wb=w22).reshape([n_ell, 4,\n",
    "                                                            n_ell, 4])\n",
    "covar_EE_EE = covar_22_22[:, 0, :, 0]\n",
    "covar_EE_EB = covar_22_22[:, 0, :, 1]\n",
    "covar_EE_BE = covar_22_22[:, 0, :, 2]\n",
    "covar_EE_BB = covar_22_22[:, 0, :, 3]\n",
    "covar_EB_EE = covar_22_22[:, 1, :, 0]\n",
    "covar_EB_EB = covar_22_22[:, 1, :, 1]\n",
    "covar_EB_BE = covar_22_22[:, 1, :, 2]\n",
    "covar_EB_BB = covar_22_22[:, 1, :, 3]\n",
    "covar_BE_EE = covar_22_22[:, 2, :, 0]\n",
    "covar_BE_EB = covar_22_22[:, 2, :, 1]\n",
    "covar_BE_BE = covar_22_22[:, 2, :, 2]\n",
    "covar_BE_BB = covar_22_22[:, 2, :, 3]\n",
    "covar_BB_EE = covar_22_22[:, 3, :, 0]\n",
    "covar_BB_EB = covar_22_22[:, 3, :, 1]\n",
    "covar_BB_BE = covar_22_22[:, 3, :, 2]\n",
    "covar_BB_BB = covar_22_22[:, 3, :, 3]"
   ]
  },
  {
   "cell_type": "code",
   "execution_count": 31,
   "id": "a9f9bbfe",
   "metadata": {
    "collapsed": false
   },
   "outputs": [],
   "source": [
    "?nmt.gaussian_covariance"
   ]
  },
  {
   "cell_type": "code",
   "execution_count": 29,
   "id": "6fa2e192",
   "metadata": {
    "collapsed": false
   },
   "outputs": [
    {
     "name": "stdout",
     "output_type": "stream",
     "text": [
      "Sample covariance\n",
      "0\n"
     ]
    },
    {
     "name": "stderr",
     "output_type": "stream",
     "text": [
      "WARNING: AstropyDeprecationWarning: \"verbose\" was deprecated in version 1.15.0 and will be removed in a future version.  [warnings]\n"
     ]
    },
    {
     "name": "stdout",
     "output_type": "stream",
     "text": [
      "1\n"
     ]
    },
    {
     "name": "stdout",
     "output_type": "stream",
     "text": [
      "2\n"
     ]
    },
    {
     "name": "stdout",
     "output_type": "stream",
     "text": [
      "3\n"
     ]
    },
    {
     "name": "stdout",
     "output_type": "stream",
     "text": [
      "4\n"
     ]
    },
    {
     "name": "stdout",
     "output_type": "stream",
     "text": [
      "5\n"
     ]
    },
    {
     "name": "stdout",
     "output_type": "stream",
     "text": [
      "6\n"
     ]
    },
    {
     "name": "stdout",
     "output_type": "stream",
     "text": [
      "7\n"
     ]
    },
    {
     "name": "stdout",
     "output_type": "stream",
     "text": [
      "8\n"
     ]
    },
    {
     "name": "stdout",
     "output_type": "stream",
     "text": [
      "9\n"
     ]
    },
    {
     "data": {
      "image/png": "[encoded data removed]",
      "text/plain": [
       "<Figure size 432x288 with 1 Axes>"
      ]
     },
     "metadata": {
      "needs_background": "light"
     },
     "output_type": "display_data"
    },
    {
     "data": {
      "image/png": "[encoded data removed]",
      "text/plain": [
       "<Figure size 432x288 with 1 Axes>"
      ]
     },
     "metadata": {
      "needs_background": "light"
     },
     "output_type": "display_data"
    },
    {
     "data": {
      "image/png": "[encoded data removed]",
      "text/plain": [
       "<Figure size 432x288 with 1 Axes>"
      ]
     },
     "metadata": {
      "needs_background": "light"
     },
     "output_type": "display_data"
    }
   ],
   "source": [
    "# Let's now compute the sample covariance\n",
    "# (we'll only do this for spin-0 for simplicity\n",
    "print(\"Sample covariance\")\n",
    "nsamp = 10\n",
    "covar_sample = np.zeros([n_ell, n_ell])\n",
    "mean_sample = np.zeros(n_ell)\n",
    "for i in np.arange(nsamp):\n",
    "    print(i)\n",
    "    f, _ = get_sample_field()\n",
    "    cl = compute_master(f, f, w00)[0]\n",
    "    covar_sample += cl[None, :]*cl[:, None]\n",
    "    mean_sample += cl\n",
    "mean_sample /= nsamp\n",
    "covar_sample = covar_sample / nsamp\n",
    "covar_sample -= mean_sample[None, :] * mean_sample[:, None]\n",
    "\n",
    "# Let's plot them:\n",
    "plt.figure()\n",
    "plt.imshow(covar_TT_TT, origin='lower', interpolation='nearest')\n",
    "plt.figure()\n",
    "plt.imshow(covar_sample, origin='lower', interpolation='nearest')\n",
    "plt.figure()\n",
    "plt.imshow(covar_TT_TT-covar_sample, origin='lower', interpolation='nearest')\n",
    "plt.show()"
   ]
  },
  {
   "cell_type": "code",
   "execution_count": 56,
   "id": "3f249515",
   "metadata": {
    "collapsed": false
   },
   "outputs": [
    {
     "data": {
      "image/png": "[encoded data removed]",
      "text/plain": [
       "<Figure size 432x288 with 1 Axes>"
      ]
     },
     "metadata": {
      "needs_background": "light"
     },
     "output_type": "display_data"
    }
   ],
   "source": [
    "# plot galaxy x galaxy ps in the same redshift bins, linear galaxy scale\n",
    "maps = ['gg']\n",
    "zs_bins = ['z1f2z1', 'z2f2z2', 'z3f2z3', 'z4f2z4', 'z5f2z5']\n",
    "for map in maps:\n",
    "    for zs_bin in zs_bins:\n",
    "        Cl_name = 'Cl'+'gg'+'_input_'+'%s.dat' %zs_bin\n",
    "        # print(Cl_name)\n",
    "        Cl = np.loadtxt(G_ps_path + Cl_name)\n",
    "        plt.plot(Cl[ellmin:ellmax,0], Cl[ellmin:ellmax,1], label=zs_bin)\n",
    "plt.legend()\n",
    "plt.xlabel(r'$\\ell$')\n",
    "plt.ylabel(r'$Cl^{gg}_{\\ell}$')\n",
    "plt.yscale('log')"
   ]
  }
 ],
 "metadata": {
  "kernelspec": {
   "argv": [
    "/home/ketchup/anaconda3/bin/python",
    "-m",
    "ipykernel_launcher",
    "-f",
    "{connection_file}"
   ],
   "display_name": "Python 3",
   "env": null,
   "interrupt_mode": "signal",
   "language": "python",
   "metadata": null,
   "name": "python3"
  },
  "name": "namaster_test.ipynb"
 },
 "nbformat": 4,
 "nbformat_minor": 5
}
