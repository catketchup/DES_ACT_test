{
 "cells": [
  {
   "cell_type": "code",
   "execution_count": 1,
   "id": "89a2d62f",
   "metadata": {},
   "outputs": [],
   "source": [
    "import numpy as np\n",
    "import matplotlib.pylab as plt\n",
    "import pandas as pd\n",
    "import healpy as hp\n",
    "import pymaster as nmt\n",
    "import pyccl as ccl\n",
    "from astropy.table import Table\n",
    "from scipy.interpolate import interp1d\n",
    "from scipy.integrate import simps"
   ]
  },
  {
   "cell_type": "code",
   "execution_count": 2,
   "id": "20896637",
   "metadata": {},
   "outputs": [],
   "source": [
    "\n",
    "def load_fits2pd(fits_file):\n",
    "    cat  = Table.read(fits_file, format='fits')\n",
    "    names = [name for name in cat.colnames if len(cat[name].shape) <= 1]\n",
    "    catt = cat[names].to_pandas()\n",
    "    return catt\n",
    "\n",
    "\n",
    "\n",
    "def get_nz(cat):\n",
    "    z_in = np.linspace(0.0, 1.5, 100) \n",
    "    nz, zz = np.histogram(cat['DNF_ZMC_SOF'], bins=100, density=None)\n",
    "    zz = 0.5 * (zz[1:]+zz[:-1])\n",
    "    nz_normed = nz/ simps(nz, zz)\n",
    "    _p_of_z = interp1d(zz, nz_normed,bounds_error=False, fill_value=0.)\n",
    "    nz_in = _p_of_z(z_in)\n",
    "    return z_in, nz_in\n",
    "    "
   ]
  },
  {
   "cell_type": "code",
   "execution_count": 3,
   "id": "a0bb6dad",
   "metadata": {},
   "outputs": [],
   "source": [
    "bias_zs= [1.5,1.8,1.8,1.9,2.0,2.0]\n",
    "sz_zs = [0.642, 0.63 , 0.776, 0.794, 0.756, 0.896]\n",
    "\n",
    "cosmo = ccl.Cosmology(Omega_c= 0.26, Omega_b=0.049, h=0.69 , A_s=2.19e-9, n_s=0.97,\n",
    "                      matter_power_spectrum='halofit')\n",
    "nside = 1024\n",
    "ell = np.arange(0, 3*nside-1)\n",
    "cmbl = ccl.CMBLensingTracer(cosmo, 1090.)\n",
    "clkk_th  =  ccl.angular_cl(cosmo, cmbl,cmbl, ell)\n"
   ]
  },
  {
   "cell_type": "markdown",
   "id": "e3f8aa71",
   "metadata": {},
   "source": [
    "# Read catalog and split the redshift bins\n"
   ]
  },
  {
   "cell_type": "code",
   "execution_count": 4,
   "id": "5cfc2e37",
   "metadata": {},
   "outputs": [
    {
     "name": "stdout",
     "output_type": "stream",
     "text": [
      "2236462  total number of galaxies\n",
      "1599487  total number of galaxies\n",
      "1627408  total number of galaxies\n",
      "2175171  total number of galaxies\n",
      "1583679  total number of galaxies\n",
      "1494243  total number of galaxies\n"
     ]
    }
   ],
   "source": [
    " \n",
    "data_path1 =  '/home/gabriela/Documents/Pesquisa/kxgal_new/data/data_input/raw_data/monroy/'\n",
    "cat = load_fits2pd(data_path1+'data.fits')\n",
    "cat_z1  = cat[(cat['DNF_ZMEAN_SOF']> 0.2) &(cat['DNF_ZMEAN_SOF']< 0.40) ]\n",
    "print(len(cat_z1) ,' total number of galaxies' )\n",
    "cat_z1.index = range(len(cat_z1))\n",
    "\n",
    "cat_z2  = cat[(cat['DNF_ZMEAN_SOF']> 0.4) &(cat['DNF_ZMEAN_SOF']< 0.55) ]\n",
    "print(len(cat_z2) ,' total number of galaxies' )\n",
    "cat_z2.index = range(len(cat_z2))\n",
    "\n",
    "\n",
    "cat_z3  = cat[(cat['DNF_ZMEAN_SOF']> 0.55) &(cat['DNF_ZMEAN_SOF']< 0.7) ]\n",
    "print(len(cat_z3) ,' total number of galaxies' )\n",
    "cat_z3.index = range(len(cat_z3))\n",
    "\n",
    "\n",
    "cat_z4  = cat[(cat['DNF_ZMEAN_SOF']> 0.7) &(cat['DNF_ZMEAN_SOF']< 0.85) ]\n",
    "print(len(cat_z4) ,' total number of galaxies' )\n",
    "cat_z4.index = range(len(cat_z4))\n",
    "\n",
    "\n",
    "cat_z5  = cat[(cat['DNF_ZMEAN_SOF']> 0.85) &(cat['DNF_ZMEAN_SOF']< 0.95) ]\n",
    "print(len(cat_z5) ,' total number of galaxies' )\n",
    "cat_z5.index = range(len(cat_z5))\n",
    "\n",
    "\n",
    "cat_z6  = cat[(cat['DNF_ZMEAN_SOF']> 0.95) &(cat['DNF_ZMEAN_SOF']< 1.05) ]\n",
    "print(len(cat_z6) ,' total number of galaxies' )\n",
    "cat_z6.index = range(len(cat_z6))\n",
    "catals = [cat_z1,cat_z2,cat_z3,cat_z4,cat_z5,cat_z6]"
   ]
  },
  {
   "cell_type": "code",
   "execution_count": 5,
   "id": "bfd3cc93",
   "metadata": {
    "scrolled": true
   },
   "outputs": [
    {
     "name": "stderr",
     "output_type": "stream",
     "text": [
      "/home/gabriela/anaconda3/lib/python3.8/site-packages/pyccl-2.5.2.dev10+g7b44b1e1-py3.8.egg/pyccl/tracers.py:110: CCLWarning: The number of samples in the n(z) (100) is smaller than the number of samples in the lensing kernel (256). Consider disabling spline integration for the lensing kernel by setting pyccl.gsl_params.LENSING_KERNEL_SPLINE_INTEGRATION = False\n",
      "  warnings.warn(\n"
     ]
    }
   ],
   "source": [
    "##############################################################################\n",
    "################ Compute the Th. cls ###############\n",
    "##############################################################################\n",
    "\n",
    "##############################################################################\n",
    " \n",
    "des_bins = 6\n",
    "cls_arr = []\n",
    "clkg_arr = []\n",
    "\n",
    "for i in range(des_bins):\n",
    "  \n",
    "    zz, nz = get_nz(catals[i])\n",
    "    \n",
    "    ccl_z1 = ccl.NumberCountsTracer(cosmo,False,(zz,nz), bias= (zz, bias_zs[i]*np.ones(len(zz)) ),  mag_bias=  (zz, sz_zs[i]*np.ones(len(zz)) ))\n",
    "    cl_kg_th = ccl.angular_cl(cosmo, ccl_z1,cmbl, ell) #CL_k_bin\n",
    "\n",
    "    for j in range(i, des_bins):\n",
    "        \n",
    "        zz, nz = get_nz(catals[j])\n",
    "        ccl_z2 = ccl.NumberCountsTracer(cosmo,False,(zz,nz), bias= (zz, bias_zs[j]*np.ones(len(zz)) ),  mag_bias=  (zz, sz_zs[j]*np.ones(len(zz)) ))\n",
    "\n",
    "        cl_gg_th = ccl.angular_cl(cosmo, ccl_z1,ccl_z2, ell) #CL_g1_g2\n",
    " "
   ]
  },
  {
   "cell_type": "code",
   "execution_count": null,
   "id": "6223a2bb",
   "metadata": {},
   "outputs": [],
   "source": []
  },
  {
   "cell_type": "code",
   "execution_count": null,
   "id": "8dba8d04",
   "metadata": {},
   "outputs": [],
   "source": [
    " "
   ]
  }
 ],
 "metadata": {
  "kernelspec": {
   "display_name": "Python 3",
   "language": "python",
   "name": "python3"
  },
  "language_info": {
   "codemirror_mode": {
    "name": "ipython",
    "version": 3
   },
   "file_extension": ".py",
   "mimetype": "text/x-python",
   "name": "python",
   "nbconvert_exporter": "python",
   "pygments_lexer": "ipython3",
   "version": "3.8.8"
  }
 },
 "nbformat": 4,
 "nbformat_minor": 5
}
