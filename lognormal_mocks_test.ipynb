{
 "cells": [
  {
   "cell_type": "code",
   "execution_count": 10,
   "id": "542c82a1",
   "metadata": {
    "collapsed": false
   },
   "outputs": [],
   "source": [
    "import lognormal_mocks as lm\n",
    "import numpy as np\n",
    "# import healpy as hp\n",
    "import matplotlib.pyplot as plt\n",
    "from pylab import *\n",
    "from lognormal_mocks import *"
   ]
  },
  {
   "cell_type": "code",
   "execution_count": 11,
   "id": "b2f33f47",
   "metadata": {
    "collapsed": false
   },
   "outputs": [],
   "source": [
    "nside = 1024\n",
    "npix = 12*nside**2\n",
    "omegapix = 4*pi/npix"
   ]
  },
  {
   "cell_type": "code",
   "execution_count": 12,
   "id": "c88f2576",
   "metadata": {
    "collapsed": false
   },
   "outputs": [],
   "source": [
    "cl_path = 'lognormal_mocks/test/'"
   ]
  },
  {
   "cell_type": "code",
   "execution_count": 13,
   "id": "2ee9938d",
   "metadata": {
    "collapsed": false
   },
   "outputs": [],
   "source": [
    "clgg = loadtxt(cl_path + \"clgg_desregion_z1.txt\") # This is the galaxy overdensity power spectrum\n",
    "clkg = loadtxt(cl_path + \"clkg_actregion_z1.txt\") # This is the kappa-galaxy overdensity cross\n",
    "clkk = loadtxt(cl_path + \"clkk_th.txt\") # This is the kappa-kappa power spectrum"
   ]
  },
  {
   "cell_type": "code",
   "execution_count": 16,
   "id": "b1f7e5ac",
   "metadata": {
    "collapsed": false
   },
   "outputs": [],
   "source": [
    "# Truncate each spectrum to the same length\n",
    "Nl = min([len(clgg),len(clkg), len(clkk)])\n",
    "clgg = clgg[:Nl]\n",
    "clkg = clkg[:Nl]\n",
    "clkk = clkk[:Nl]"
   ]
  },
  {
   "cell_type": "code",
   "execution_count": 17,
   "id": "8c3f21b9",
   "metadata": {
    "collapsed": false
   },
   "outputs": [],
   "source": [
    "ngal = 222828.6428782517\n",
    "kappabar = 100.0 # a large, fake mean kappa value makes the kappa field more gaussian, it is subtracted away in the end\n",
    "rhobar = array([ngal,kappabar])  # array of mean must be size Nmap"
   ]
  },
  {
   "cell_type": "code",
   "execution_count": 19,
   "id": "c64b7911",
   "metadata": {
    "collapsed": false
   },
   "outputs": [],
   "source": [
    "# Note the ngal factors make the statistics for the galaxy density field\n",
    "Cl = array([[ ngal**2 * clgg, ngal* clkg ],\n",
    "            [ ngal* clkg,            clkk]])  # array of input Cl must be size (Nmap, Nmap, Nl).  If this is the wrong shape it will fail "
   ]
  },
  {
   "cell_type": "code",
   "execution_count": 20,
   "id": "0b6d0445",
   "metadata": {
    "collapsed": false
   },
   "outputs": [],
   "source": [
    "Ntheta = 10000 # accuracy parameter"
   ]
  },
  {
   "cell_type": "code",
   "execution_count": 23,
   "id": "77779dec",
   "metadata": {
    "collapsed": false
   },
   "outputs": [
    {
     "ename": "NameError",
     "evalue": "name 'lognormal_mocks_stats' is not defined",
     "output_type": "error",
     "traceback": [
      "\u001b[0;31m\u001b[0m",
      "\u001b[0;31mNameError\u001b[0mTraceback (most recent call last)",
      "\u001b[0;32m<ipython-input-23-3384e8107cc7>\u001b[0m in \u001b[0;36m<module>\u001b[0;34m\u001b[0m\n\u001b[0;32m----> 1\u001b[0;31m \u001b[0mgaussbar\u001b[0m\u001b[0;34m,\u001b[0m \u001b[0mClgauss\u001b[0m \u001b[0;34m=\u001b[0m \u001b[0mlognormal_mocks_stats\u001b[0m\u001b[0;34m(\u001b[0m\u001b[0mrhobar\u001b[0m\u001b[0;34m,\u001b[0m\u001b[0mCl\u001b[0m\u001b[0;34m,\u001b[0m\u001b[0mNtheta\u001b[0m\u001b[0;34m)\u001b[0m \u001b[0;31m# get the stats for the Gaussianized fields\u001b[0m\u001b[0;34m\u001b[0m\u001b[0;34m\u001b[0m\u001b[0m\n\u001b[0m",
      "\u001b[0;31mNameError\u001b[0m: name 'lognormal_mocks_stats' is not defined"
     ]
    }
   ],
   "source": [
    "gaussbar, Clgauss = lognormal_mocks_stats(rhobar,Cl,Ntheta) # get the stats for the Gaussianized fiels"
   ]
  },
  {
   "cell_type": "code",
   "execution_count": null,
   "id": "2db3ca06",
   "metadata": {
    "collapsed": false
   },
   "outputs": [],
   "source": []
  }
 ],
 "metadata": {
  "kernelspec": {
   "argv": [
    "/home/ketchup/anaconda3/bin/python",
    "-m",
    "ipykernel_launcher",
    "-f",
    "{connection_file}"
   ],
   "display_name": "Python 3",
   "env": null,
   "interrupt_mode": "signal",
   "language": "python",
   "metadata": null,
   "name": "python3"
  },
  "name": "lognormal_mocks_test.ipynb"
 },
 "nbformat": 4,
 "nbformat_minor": 5
}
